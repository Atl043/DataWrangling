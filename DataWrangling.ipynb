{
 "cells": [
  {
   "cell_type": "markdown",
   "metadata": {
    "nbpresent": {
     "id": "5522f6c9-cef7-4813-a205-07e28ed8c85b"
    },
    "slideshow": {
     "slide_type": "slide"
    }
   },
   "source": [
    "<br><br><br><br><br>\n",
    "<h1> Data Wrangling </h1>\n",
    "\n",
    "<br><br><br>\n",
    "\n",
    "<h2> Thomas Donoghue </h2>\n",
    "<h2> COGS 108 - April 14th, 2017 </h2>\n",
    "<br><br><br>"
   ]
  },
  {
   "cell_type": "markdown",
   "metadata": {
    "nbpresent": {
     "id": "32b1cdee-547c-4161-bfdc-a4c3e7bae228"
    },
    "slideshow": {
     "slide_type": "slide"
    }
   },
   "source": [
    "<br><br><br><br>\n",
    "\n",
    "## High Level Learning Goals\n",
    "<br>\n",
    "- Notice that data is everywhere, ripe for collection and analysis\n",
    "<br>\n",
    "- However, dealing with data is mostly 'administrative'"
   ]
  },
  {
   "cell_type": "markdown",
   "metadata": {
    "nbpresent": {
     "id": "627e7a82-cab5-41d1-9205-dd348e5f7557"
    }
   },
   "source": [
    "<br><br><br><br>\n",
    "\n",
    "## How are we going to do this:\n",
    "<br>\n",
    "- Explore how to load and organize data into useable formats\n",
    "- A crash course on file types, data formats, databases, and APIs\n",
    "<br><br><br><br><br><br>"
   ]
  },
  {
   "cell_type": "markdown",
   "metadata": {
    "nbpresent": {
     "id": "fa296210-1a91-4641-88ac-80158640a828"
    }
   },
   "source": [
    "## Data Sources\n",
    "<br>\n",
    "- Files\n",
    "- Databases\n",
    "- Web Scraping & APIs\n",
    "<br>"
   ]
  },
  {
   "cell_type": "markdown",
   "metadata": {
    "nbpresent": {
     "id": "b4c3476a-652b-47a5-ba9d-3e600aae91a9"
    }
   },
   "source": [
    "## Friendly File Types:\n",
    "- csv\n",
    "- tsv\n",
    "- json\n",
    "- txt\n",
    "- xml"
   ]
  },
  {
   "cell_type": "markdown",
   "metadata": {
    "nbpresent": {
     "id": "46fee87e-a300-4822-9bb1-ee07ef16c787"
    }
   },
   "source": [
    "## 'Unfriendly' File Types:\n",
    "- pdf\n",
    "- docx\n",
    "- html\n",
    "- Anything made to look nice for humans"
   ]
  },
  {
   "cell_type": "code",
   "execution_count": 1,
   "metadata": {
    "collapsed": true
   },
   "outputs": [],
   "source": [
    "# Import pandas to use to hold data\n",
    "import pandas as pd"
   ]
  },
  {
   "cell_type": "markdown",
   "metadata": {
    "nbpresent": {
     "id": "7a39d579-ce6c-4bbe-85b5-9a65362089e9"
    }
   },
   "source": [
    "### CSV Files"
   ]
  },
  {
   "cell_type": "markdown",
   "metadata": {},
   "source": [
    "<div class=\"alert alert-success\">\n",
    "'Comma Separated Value' files store data, separated by comma's. Think of them like lists.\n",
    "</div>"
   ]
  },
  {
   "cell_type": "code",
   "execution_count": 2,
   "metadata": {
    "collapsed": true
   },
   "outputs": [],
   "source": [
    "# Note: through this notebook, I will be using '!' to run the shell command 'cat'\n",
    "#  to print out the content of example data files"
   ]
  },
  {
   "cell_type": "code",
   "execution_count": 3,
   "metadata": {
    "collapsed": false,
    "nbpresent": {
     "id": "c7c0de9f-2408-4aa0-a42a-d7761515cfdc"
    }
   },
   "outputs": [
    {
     "name": "stdout",
     "output_type": "stream",
     "text": [
      "1, 2, 3, 4\r\n",
      "5, 6, 7, 8\r\n",
      "9, 10, 11, 12"
     ]
    }
   ],
   "source": [
    "!cat files/dat.csv"
   ]
  },
  {
   "cell_type": "code",
   "execution_count": 4,
   "metadata": {
    "collapsed": true,
    "nbpresent": {
     "id": "c99e0f1c-590b-45e7-a6a0-e7b1ea06f3ca"
    }
   },
   "outputs": [],
   "source": [
    "# Python has a module devoted to working with csv's\n",
    "import csv"
   ]
  },
  {
   "cell_type": "code",
   "execution_count": 5,
   "metadata": {
    "collapsed": false,
    "nbpresent": {
     "id": "37def97b-dfe5-4e49-882c-b678dab6390d"
    }
   },
   "outputs": [
    {
     "name": "stdout",
     "output_type": "stream",
     "text": [
      "1,  2,  3,  4\n",
      "5,  6,  7,  8\n",
      "9,  10,  11,  12\n"
     ]
    }
   ],
   "source": [
    "# We can read through our file with the csv module\n",
    "with open('files/dat.csv') as csvfile:\n",
    "    csv_reader = csv.reader(csvfile, delimiter=',')\n",
    "    for row in csv_reader:\n",
    "        print(', '.join(row))"
   ]
  },
  {
   "cell_type": "code",
   "execution_count": 6,
   "metadata": {
    "collapsed": false
   },
   "outputs": [],
   "source": [
    "# Pandas also has functions to directly load csv data\n",
    "pd.read_csv?"
   ]
  },
  {
   "cell_type": "code",
   "execution_count": 7,
   "metadata": {
    "collapsed": false
   },
   "outputs": [
    {
     "data": {
      "text/html": [
       "<div>\n",
       "<table border=\"1\" class=\"dataframe\">\n",
       "  <thead>\n",
       "    <tr style=\"text-align: right;\">\n",
       "      <th></th>\n",
       "      <th>0</th>\n",
       "      <th>1</th>\n",
       "      <th>2</th>\n",
       "      <th>3</th>\n",
       "    </tr>\n",
       "  </thead>\n",
       "  <tbody>\n",
       "    <tr>\n",
       "      <th>0</th>\n",
       "      <td>1</td>\n",
       "      <td>2</td>\n",
       "      <td>3</td>\n",
       "      <td>4</td>\n",
       "    </tr>\n",
       "    <tr>\n",
       "      <th>1</th>\n",
       "      <td>5</td>\n",
       "      <td>6</td>\n",
       "      <td>7</td>\n",
       "      <td>8</td>\n",
       "    </tr>\n",
       "    <tr>\n",
       "      <th>2</th>\n",
       "      <td>9</td>\n",
       "      <td>10</td>\n",
       "      <td>11</td>\n",
       "      <td>12</td>\n",
       "    </tr>\n",
       "  </tbody>\n",
       "</table>\n",
       "</div>"
      ],
      "text/plain": [
       "   0   1   2   3\n",
       "0  1   2   3   4\n",
       "1  5   6   7   8\n",
       "2  9  10  11  12"
      ]
     },
     "execution_count": 7,
     "metadata": {},
     "output_type": "execute_result"
    }
   ],
   "source": [
    "# Let's read in our csv file\n",
    "pd.read_csv(open('files/dat.csv'), header=None)"
   ]
  },
  {
   "cell_type": "markdown",
   "metadata": {},
   "source": [
    "### JSON"
   ]
  },
  {
   "cell_type": "markdown",
   "metadata": {},
   "source": [
    "<div class=\"alert alert-success\">\n",
    "JavaScript Object Notation files can store hierachical key/value pairings. Think of them like dictionaries.\n",
    "</div>"
   ]
  },
  {
   "cell_type": "code",
   "execution_count": 8,
   "metadata": {
    "collapsed": false,
    "nbpresent": {
     "id": "0556633b-5533-4f57-91d3-77f7e3fd553c"
    },
    "scrolled": true
   },
   "outputs": [
    {
     "name": "stdout",
     "output_type": "stream",
     "text": [
      "{\r\n",
      "  \"firstName\": \"John\",\r\n",
      "  \"age\": 53\r\n",
      "}\r\n"
     ]
    }
   ],
   "source": [
    "!cat files/dat.json"
   ]
  },
  {
   "cell_type": "code",
   "execution_count": 9,
   "metadata": {
    "collapsed": false
   },
   "outputs": [
    {
     "name": "stdout",
     "output_type": "stream",
     "text": [
      "{'firstName': 'John', 'age': '53'}\n"
     ]
    }
   ],
   "source": [
    "# Think of json's as similar to dictionaries\n",
    "d = {'firstName': 'John', 'age': '53'}\n",
    "print(d)"
   ]
  },
  {
   "cell_type": "code",
   "execution_count": 10,
   "metadata": {
    "collapsed": true
   },
   "outputs": [],
   "source": [
    "# Python also has a module for dealing with json\n",
    "import json"
   ]
  },
  {
   "cell_type": "code",
   "execution_count": 11,
   "metadata": {
    "collapsed": false
   },
   "outputs": [],
   "source": [
    "# Load a json file\n",
    "with open('files/dat.json') as dat_file:    \n",
    "    dat = json.load(dat_file)"
   ]
  },
  {
   "cell_type": "code",
   "execution_count": 12,
   "metadata": {
    "collapsed": false
   },
   "outputs": [
    {
     "name": "stdout",
     "output_type": "stream",
     "text": [
      "<class 'dict'>\n"
     ]
    }
   ],
   "source": [
    "# Check what data type this gets loaded as\n",
    "print(type(dat))"
   ]
  },
  {
   "cell_type": "code",
   "execution_count": 13,
   "metadata": {
    "collapsed": true
   },
   "outputs": [],
   "source": [
    "# Pandas also has support for reading in json files\n",
    "pd.read_json?"
   ]
  },
  {
   "cell_type": "code",
   "execution_count": 14,
   "metadata": {
    "collapsed": false
   },
   "outputs": [
    {
     "data": {
      "text/plain": [
       "first          Alan\n",
       "place    Manchester\n",
       "dtype: object"
      ]
     },
     "execution_count": 14,
     "metadata": {},
     "output_type": "execute_result"
    }
   ],
   "source": [
    "# You can read in json formatted strings with pandas\n",
    "pd.read_json('{ \"first\": \"Alan\", \"place\": \"Manchester\"}', typ='series')"
   ]
  },
  {
   "cell_type": "code",
   "execution_count": 15,
   "metadata": {
    "collapsed": false
   },
   "outputs": [
    {
     "data": {
      "text/plain": [
       "age            53\n",
       "firstName    John\n",
       "dtype: object"
      ]
     },
     "execution_count": 15,
     "metadata": {},
     "output_type": "execute_result"
    }
   ],
   "source": [
    "# Read in our json file with pandas\n",
    "pd.read_json(open('files/dat.json'), typ='series')"
   ]
  },
  {
   "cell_type": "markdown",
   "metadata": {},
   "source": [
    "### XML"
   ]
  },
  {
   "cell_type": "markdown",
   "metadata": {},
   "source": [
    "<div class=\"alert alert-success\">\n",
    "eXtensible Markup Language files store 'tagged' data. Think of them like HTML.\n",
    "</div>"
   ]
  },
  {
   "cell_type": "code",
   "execution_count": 16,
   "metadata": {
    "collapsed": false
   },
   "outputs": [
    {
     "name": "stdout",
     "output_type": "stream",
     "text": [
      "<person>\r\n",
      "\t<who>Claude</who>\r\n",
      "\t<what>Info</who>\r\n",
      "\t<when>50s</when>\r\n",
      "</person>"
     ]
    }
   ],
   "source": [
    "!cat files/dat.xml"
   ]
  },
  {
   "cell_type": "code",
   "execution_count": 17,
   "metadata": {
    "collapsed": false
   },
   "outputs": [],
   "source": [
    "# We can read in the XML file with standard python I/O\n",
    "with open('files/dat.xml') as dat_file:\n",
    "    dat = dat_file.read()"
   ]
  },
  {
   "cell_type": "code",
   "execution_count": 18,
   "metadata": {
    "collapsed": false
   },
   "outputs": [
    {
     "data": {
      "text/plain": [
       "'<person>\\n\\t<who>Claude</who>\\n\\t<what>Info</who>\\n\\t<when>50s</when>\\n</person>'"
      ]
     },
     "execution_count": 18,
     "metadata": {},
     "output_type": "execute_result"
    }
   ],
   "source": [
    "# Check out the data\n",
    "dat"
   ]
  },
  {
   "cell_type": "code",
   "execution_count": 19,
   "metadata": {
    "collapsed": false
   },
   "outputs": [],
   "source": [
    "# Beautiful Soup has functions to 'clean up' XML into human-friendlier formats\n",
    "from bs4 import BeautifulSoup\n",
    "nice_dat = BeautifulSoup(dat, 'xml')"
   ]
  },
  {
   "cell_type": "code",
   "execution_count": 20,
   "metadata": {
    "collapsed": false
   },
   "outputs": [
    {
     "data": {
      "text/plain": [
       "<?xml version=\"1.0\" encoding=\"utf-8\"?>\n",
       "<person>\n",
       "<who>Claude</who>\n",
       "<what>Info</what>\n",
       "<when>50s</when>\n",
       "</person>"
      ]
     },
     "execution_count": 20,
     "metadata": {},
     "output_type": "execute_result"
    }
   ],
   "source": [
    "# Check out the parsed data\n",
    "nice_dat"
   ]
  },
  {
   "cell_type": "markdown",
   "metadata": {},
   "source": [
    "### Text Files"
   ]
  },
  {
   "cell_type": "markdown",
   "metadata": {},
   "source": [
    "<div class=\"alert alert-success\">\n",
    "Text files store (unstructured) text data.\n",
    "</div>"
   ]
  },
  {
   "cell_type": "code",
   "execution_count": 21,
   "metadata": {
    "collapsed": false,
    "nbpresent": {
     "id": "1dabde6c-c1f7-4a5e-8743-9eb166dde364"
    }
   },
   "outputs": [
    {
     "name": "stdout",
     "output_type": "stream",
     "text": [
      "This is an unstructured text file.\r\n",
      "    It can have all sort\r\n",
      "        of\r\n",
      "            stuff in it.\r\n",
      "\r\n",
      "\r\n",
      "Super duper."
     ]
    }
   ],
   "source": [
    "!cat files/dat.txt"
   ]
  },
  {
   "cell_type": "markdown",
   "metadata": {},
   "source": [
    "### PDFs"
   ]
  },
  {
   "cell_type": "markdown",
   "metadata": {},
   "source": [
    "<div class=\"alert alert-success\">\n",
    "'Portable Document Files' are a format to render complex data documents.\n",
    "</div>"
   ]
  },
  {
   "cell_type": "code",
   "execution_count": 22,
   "metadata": {
    "collapsed": false,
    "nbpresent": {
     "id": "c5762d51-c228-4cca-8c8d-651888988742"
    }
   },
   "outputs": [
    {
     "name": "stdout",
     "output_type": "stream",
     "text": [
      "%PDF-1.3\n",
      "%���������\n",
      "4 0 obj\n",
      "<< /Length 5 0 R /Filter /FlateDecode >>\n",
      "stream\n",
      "\u000f���>/�1�2\u000f1o6~r�E{�\f",
      "���k��5�l�QYG���N9��*�jE�l-dS\u0004�h���p�l���]��?��\u0006\u001fâ���X���\"%�\f",
      "ܩ�\n",
      "endstream\n",
      "endobj\n",
      "5 0 obj\n",
      "153\n",
      "endobj\n",
      "2 0 obj\n",
      "<< /Type /Page /Parent 3 0 R /Resources 6 0 R /Contents 4 0 R /MediaBox [0 0 612 792]\n",
      ">>\n",
      "endobj\n",
      "6 0 obj\n",
      "<< /ProcSet [ /PDF /Text ] /ColorSpace << /Cs1 7 0 R >> /Font << /TT1 8 0 R\n",
      ">> >>\n",
      "endobj\n",
      "9 0 obj\n",
      "<< /Length 10 0 R /N 3 /Alternate /DeviceRGB /Filter /FlateDecode >>\n",
      "stream\n",
      "x\u0001��wTS�\u0016�Ͻ7��\u0012\" %�\u001az\t �;H\u0015\u0004Q�I�P\u0002��&vD\u0005F\u0014\u0011)VdT�\u0001G�\"cE\u0014\u000b",
      "��b�\t�\u0010P��QDE�݌k\t�5�ޚ��Y�����g�}׺\u0000P��\u0004�tX\u0001�4�X\u0014���\\\u0012\u0013���\u0002\u0018\u0010\u0001\u000eX\u0001��ff\u0004G�D\u0002���=���HƳ��.�d��,�P&s���\"7C$\u0006\u0000\n",
      "E�6<~&\u0017�\u0002�S��\u00192�\u0004���)2�12\u0016�\t��\"�įl���+�ɘ�&�\u001aY�\u0019�4���Pޚ%ᣌ\u0004�\\�%�g�|\u0007e�TI�\u0000��(����L\u00000\u0014�_��&�l�2E\u0014\u0019��\u0002\u0000\b��9�r\u000e��9h�\u0000x�g�\u0004�Ib�\u0011טi���f��S�b1+��M�xL���\f",
      "�0\u0017��o�E\u0001%Ym�h���\u001c",
      "��Y��h����\u001e",
      "~S�=�z�U�&�ϞA��Y�l�/�\u0016\u0000�$Z�\u001d",
      "���U\u0000�m\u0006@��O� \u0000�\u0005\u0000�ޜ�\u001e",
      "�l^���\f",
      "'\u000b",
      "���ls\u0001�k.+�7���oʿ�9�����V;�\u0017?�#I\u00153eE妧�KD��\f",
      "\u000e��d��\u0010���9i���,���\u0017��UQ�\t��h��<�X�.d\n",
      "���\u00186'\u0007\u0019~�k\u0014hu_\u0000}�9P�I\u0007�o=\u0000C#\u0003$n?z\u0002}�[\u00101\n",
      "Ⱦ�h���s�2z���\u001f\u000b",
      "\\�n�LA\"S��\f",
      "�dr%�,\u0019�߄l�\u0002\u0012�\u0007t�\n",
      "\u001c",
      "�3p\u0003� \u0000��H\u0010\u0003�\u0003.H\u0002i@\u0004�A>�\u0000\n",
      "p\u000b",
      "\f",
      "�G@jp\u0000ԁz�\u0004N�6p\u0006\\\u0004W�\n",
      "�&�x�*�\u0014�\u000f�s�b|!�\u0017���J�\u0016>\u000e��\u0017�\u001b�\u0000,�_\b@�\b\u0003�FX\b\u001b�DB�X$\u0001\u0011!k�\"�\u0002�E��\u000e�\u001b��H�q�\u0003\u0006��a�\u0018\u0016�\u0019�Y��bVa�bJ0՘c�VL\u0017�6f\u00103����bձ�X'�?v\t6\u0011��-�V`�`[���\u0003�a�;\u001c",
      "\u000e��\u0019�\u001c",
      "p~�\u0018\\2n5�\u0004�\u000f׌����\n",
      "Σ\u000b",
      "\f",
      "\u0017�\u0017�-\u0018r�q�\u001c",
      "r�.d.�_xp��Uە�Z���M׍�v�m���=����+\u000fK\u000f�G�ǔ���\u001a�\u000b",
      "^���W�W����b�j�>:>�>�>\u0013�v��}/�a�\u0002�v���������O\u00048\u0004�\t�7��ӓ���\u001f��\te%e[�(�\u001c",
      "�\u001a��R\u0006�0`�3R\u0019��������4�����6�i^��)��*n*|�\"�f�\u0001���LUo�\u0014՝�m�O�0j&jaj�j��.��ϧ�w�ϝ_4����갺�z��j���=�\u001a�\u001a�\u001a\u0019\u001aU\u001a�4�5\u0019�n�ɚ��4ǴhZ\u000b",
      "�\u0004Z�Z�^0����Tf%��9�����-�>�ݫ=�c��Xg�N��\u0013]�.[7A�\\�SwBOK/X/_�Q�>Q�����G�[��� �`�A�������a�a��c#����*�Z�;�8c�q��>�[&���I�I��MS���T`�ϴ�\f",
      "k�h&4�5�Ǣ��YY�F֠9�<�|�y��+\u000b",
      "=�X��\u0016�\u0016_,�,S-�,\u001fY)Y\u0005Xm�����Ěk]c}ǆj�c�Φ�浭�-�v��};�]��\u0016�N���\u000e�\"�&�1\u0007=�x��\u000e��tv(��}�\u0011������\u0007'{'��I�ߝY�)�\n",
      "�\u0004F\u0004V\u0007>\u000b",
      "2\t\u0012\u0005u\u0004��\u0001���\u001f/�_$\\�\u0016\u0002B�Cv�<\t5\f",
      "]\u0015�s\u0018.,4�&�y�Ux~xw\u0004-bEDCĻH����G��\u0016K\u0016wF�G�E�GME{E�EK�X,Y��F�Z� �=\u0016\u001f\u001b\u0015{$vr����K����\n",
      "��.3\\����r���Ϯ�_�Yq*\u001e",
      "\u001b\u001f\u001d",
      "�\u0010��\u0013©�L��_�w�\u0004ד������+��]�e��\u0004�����D��]�cI�I\u0015I�\u0002OA��u�_�䩔���)3�ѩ�i�����B%a��+]3='�/�4�0C��i��U\u0013�@ёL(sYf����L�H�$�%�Y\u000b",
      "�j��gGe��Q�\u0011����n�\u001d",
      "����~5f5wug�v����5�k\u000e��֮\\۹Nw]������m mH���Fˍe\u001b�n���Q�Q��`h����B�BQ�-�[\u000el�l\u0015l��f��jۗ\"^��b���O%ܒ��Y}W�����������w�v\bw����X�bY^�Ю�]�����W�Va[q`\u000fi�d��2���J�jGէ��\u001a����{�����׿�m�\u0001�\u0003�\u0007>\u001e",
      "\u0014\u001c",
      "���Pk�Am�a�����꺿g_D�H��G�G��u�;��7�7�6�Ʊ�q�o���C{\u0013��P3���\u00048!9����\u001f�\f",
      "<�y�}��'�����Z�Z���։��6i{L{��ӝ\u001d",
      "�\u001d",
      "-?��|������gKϑ�\u0015��9�w~�Bƅ�\u0017�:Wt>���ҝ����ˁ��^�r�۽��U��g�9];}�}�����\u001e",
      "���_�~i��m��p���㭎�\u0005}��]�/���}���\u001b\u0003�\u0006��.�{�^�=�}���\u0007�\u000f^?�z8�h�c��'\n",
      "O*��?�����f�����`ϳ�g���C/����O�\u0005ϩ�+F�F�G�Gό���z����ˌ��ㅿ)����ѫ�~w��gb���k��?Jި�9���m�d���wi獵�ޫ�?�����c�Ǒ��O�O���?w|\t��x&mf������\n",
      "endstream\n",
      "endobj\n",
      "10 0 obj\n",
      "2612\n",
      "endobj\n",
      "7 0 obj\n",
      "[ /ICCBased 9 0 R ]\n",
      "endobj\n",
      "3 0 obj\n",
      "<< /Type /Pages /MediaBox [0 0 612 792] /Count 1 /Kids [ 2 0 R ] >>\n",
      "endobj\n",
      "11 0 obj\n",
      "<< /Type /Catalog /Pages 3 0 R >>\n",
      "endobj\n",
      "8 0 obj\n",
      "<< /Type /Font /Subtype /TrueType /BaseFont /CIDSZH+Helvetica /FontDescriptor\n",
      "12 0 R /Encoding /MacRomanEncoding /FirstChar 33 /LastChar 84 /Widths [ 278\n",
      "0 0 0 0 0 0 0 0 0 0 0 0 0 0 0 0 0 0 0 0 0 0 0 0 0 0 0 0 0 0 0 667 0 0 722\n",
      "0 0 0 0 0 0 0 0 0 0 0 0 0 0 0 611 ] >>\n",
      "endobj\n",
      "12 0 obj\n",
      "<< /Type /FontDescriptor /FontName /CIDSZH+Helvetica /Flags 32 /FontBBox [-951 -481 1445 1122]\n",
      "/ItalicAngle 0 /Ascent 770 /Descent -230 /CapHeight 717 /StemV 98 /XHeight\n",
      "523 /StemH 85 /AvgWidth 441 /MaxWidth 1500 /FontFile2 13 0 R >>\n",
      "endobj\n",
      "13 0 obj\n",
      "<< /Length 14 0 R /Length1 5904 /Filter /FlateDecode >>\n",
      "stream\n",
      "Ү�\u0010�\u0005��.F����W�w�@+���ްz�\u0004H<��b\n",
      "\n",
      "*,+�\t��\u0001c\u0016��!\u0010Ǥp�;;\u0006�h\u0010�o\u0004\u0005'S�0�\u0017�+���*�s�\\����\u0007.�X;�Ϭ�AT�PW����v��_��3=C[\u001e",
      "�B\u0006�\u0000\u0007�\u001b\"��`\\s^&\u0012�\u001e",
      "�\f",
      "&��׈�t\u000f\u000f�IY(\u0001�6�\u000e><��-�\u0001��\u001e",
      "޴u�}�:��h�'i�ψ.��\")�b��b\u0003C�%���D�7mg5��>\u0010ylz|x�d�k��h��\u000e��\u00067?24-\u0007��\u000fn�N�#��/\u0000I+���\n",
      "_\u000530�S�\u00040���\u0005<Yu;]����\u000f�]{\u001d",
      "\u001c",
      "\u0016C~��\u001f\f",
      "�Ʒ.�>�~V����O������T�(�\u0010��iϦ,F;�\t*t�Th�ZGu\tU�o�\u0013F�%x��\u000f�rЇ{`+��T�G�OqGI\u001a�=c�E>�[!\u001fW�i�{]v��iKs�RE�����<Z���7�\u0001�\u00156�\u0001�\u0000=��\u0017���C\u0013���J7��d:\n",
      "�TG�r�\u001d",
      "��Xa��<���GjS\u0004�<���]e���J���B��\u0013y��$�n�����\\\u000f��S=�4\u001d",
      "+%�W�G]���\u000b",
      "U|~��m�����$y�EM_q\u000f�\u001e",
      "t�T\u001a��\u0007Uv|�]M��r�{�2�{���\u0005Ū\u0005I�p�v�U��=�\u001a��H�ze�{�k�{9�\n",
      "�\u0011~L�+<gJK\\��j��_A.��\u0001�\u0002�iv\u0017�Z\u0003�U\u001c",
      "��x���\tv��)�&�\b�RXI�\t6�S��8\\���O�!srvn����D�_H�\u0016��>�(\f",
      "S�Ee\u001f��,�p!6`;n���\u0001|����Y�}�=�>�ڸ��V��JI�ҼfCP\u0011#!��/���(\b\u0013`\u0017�A�0\u0002��\u0002p\u0003hoQ}[����\u000f�K`O\f",
      "h�jhQ���\u0012u�0\u0001O�!\u0018\u0005\u0013�L|\t<\b��e���F8�}���[O\n",
      "\\�O����\u0017k�\u001e",
      "\u001f�2���8\u001e",
      "�q֎\u0013x�\u001d",
      "�w�=�\u0010o0���\u001c",
      "�cCl?;�.��s}�\u0001�{ܻ�u�^�\tG��M^�&�\u0012�\u0013?�j���'��Z�C+S\u000fm�\u0010Dh���\u0018��fq��(��E�1\\6�{8\u0017&�\u0013B\u00010\u0013�\n",
      "[���}؋}x\u0018�P9o��1��`V�`�l.�`]l���_�\u0011��+�Vq\u001b�Q*�qor7�\u001b��g�9�J�\u0019��\u0003��T^�_���_\b�½B��^\u0018\u0011v\u000b",
      "{�n�u�M�v�>Ә�C��ж�ڼټ�V�2�쫔��x�G�W�נ\u001b��\u0005\u0007i5�`\u0004�]=�\u0014�5\b%Z'��[�\u0016R6��oP�>\u000f�`7�\u0011�h��\u001d",
      "�_S�l�.G��|=�����<\u0001\u000b",
      ")���\\ZVZR\\�'��G�-nA~�3wNNvV�Þ��f�Z�&��\u0018By@j\f",
      "�JQXዤ��\n",
      "Dz��5�����\t��Tk�4FEy�Bq�\u001e",
      "�g�*CWX�\"\u001b�(\u0017\u0003����/�*nX\u0013$�i�\u0014\u0012�I�o5�g\f",
      ">�x��\u001a�\u0001g�/*\u0018\u0016\u0003J�p,\u001e",
      "\b�+�q\\&8l\u0015���!C�ޱ\u0002\n",
      "\u0017\t),����)��_�}�}��\u0019.��&�¼��h�Q��{\b\\]\f",
      "�Rd/I-\u001d",
      "\"u�v��\n",
      "і�)\u0000PG@j�8\u0015��\u0018D�`���2�w/#��p,_�76_\u0005ڃcyr�!T��;��xh��\u0015+*V���ܞ���VR��\t�:�_�\n",
      "!M���iP\u0018�\f",
      "�U\u0004osD\u0019�\t#�O\u0006\u0017���Y��P}���q�rZ)�Kb�:=����\u001ffk\"�\u001a��~\u001d",
      "t��Щ\\Q02�\u000f�\u000fK/�:�b��\u000e\u001bkJ��\f",
      "ܤ Y�F�Yɦ\u0007x{У�!R��dy�\n",
      "���I�}!\u0015��*�]���=� ���T����$T����C��r��Fn�sE���枸�(�(�x�A�\u0010��\u0016\u0010�\u001d",
      "A�\t�шr� �FC����\u0002�\u001fjB��\u0010��?�\u0003QC�`��\u0016��Ô+j\u000f�\t*#�\u0002E��h\u0015(}'ڃ�\u0004en(D^��H)�m}�阫(��2�/J�B�.#�E(\u001e",
      "���\bJ\u001e",
      "e\"\u001e",
      "/������\"ܪ��\u0015*�.:�*��S[\"���X\u0003�䡰B:��)�g2��ٿ\u0018ᥩ���=\u0014�R\u0003�ew\b���Ax�m!\\��t\u0016µ\u0014s���W�<�p�\u0017#,�� WP���p�\u001d",
      "B��v\u0010��\u0016T��\u0010n��\u0003:�+�<��f!���\b�J�MA�P��\f",
      "�W�!�[o\u0007��B��T��\u0010n����\u0011^��!�v\u0016�\u001d",
      "_��T�\u0014��\u0014�:\u0003��w\b´\u001d",
      "����p(\u0015�,�7P�!\u001d",
      "�\u0007R\b�\u0005\n",
      "ܼ\u000f�ܲ��\u001d",
      "ߘ7�\u00049�)\t�PϪaRX\u000f�t�z��޵��4\u001d",
      "��J�S�\u0016�\u001e",
      "z�Nj\f",
      "���ƌV�_iK'{�����#\\�O�Kz=\u0000�΋\u001c",
      "}wjH~\u000b",
      "�,P��j��\u0000W��2��;�\u00135\u0013�Z߁3�\n",
      "`��\f",
      "�$\u0010]X���q\u0014S�������p��\u0006�o�A�\u0016�c����X\u0002=�\u0017�\u00054�}�2�--77��s�5A�-����7���v���Tu�Ŷ@��\u0001��M}PW�0k���8Ǣ\u001c",
      "i�'���/]\u0012�%\\S;�7?��\n",
      "͠�\u0010�\n",
      "���F'����&\f",
      "b\f",
      "������َ�T�j3��\u0010�&\u00132��J7\u001b�\u0005܋\u001c",
      "/f�l�L�e\u000b",
      "�7�\u001c",
      "��\u0004�j�M\u0002�1�\u0015�-*�d+�Λ�6N �e93#��\u0017\u000e�a[^z�\u0011��\u0007)���k�֩�<#�F�\u0013�rk�j[�j�j\u001d",
      "�u�Ȭ����z����m�\u0016z��'\n",
      "[�\"����\u0014�̂�7sff\u0016L6��\\���Љi��\b%��I��{wr�U������/��=�6��S_�?m@5�d��\"��M\\\u0006��\u001f�ݻ\u001c",
      "\u00073Y�%��n\u0006��\u0016KeV~~������7=û��O��?n������ʅ\n",
      "M�����P_w���e.1����~\u0000}G\u0000\bj�\u0017�⍹͒W�b��\"����\u0003��&\t9����C87��G�]��5e�qiQ:���K %O�0��\u001e",
      "␾H$��&�F\u000b",
      "\n",
      "\n",
      "endstream\n",
      "endobj\n",
      "14 0 obj\n",
      "3345\n",
      "endobj\n",
      "15 0 obj\n",
      "(dat)\n",
      "endobj\n",
      "16 0 obj\n",
      "(Mac OS X 10.12.4 Quartz PDFContext)\n",
      "endobj\n",
      "17 0 obj\n",
      "(Pages)\n",
      "endobj\n",
      "18 0 obj\n",
      "(D:20170414071811Z00'00')\n",
      "endobj\n",
      "1 0 obj\n",
      "<< /Title 15 0 R /Producer 16 0 R /Creator 17 0 R /CreationDate 18 0 R /ModDate\n",
      "18 0 R >>\n",
      "endobj\n",
      "xref\n",
      "0 19\n",
      "0000000000 65535 f \n",
      "0000007501 00000 n \n",
      "0000000268 00000 n \n",
      "0000003239 00000 n \n",
      "0000000022 00000 n \n",
      "0000000249 00000 n \n",
      "0000000372 00000 n \n",
      "0000003204 00000 n \n",
      "0000003372 00000 n \n",
      "0000000469 00000 n \n",
      "0000003183 00000 n \n",
      "0000003322 00000 n \n",
      "0000003654 00000 n \n",
      "0000003904 00000 n \n",
      "0000007339 00000 n \n",
      "0000007360 00000 n \n",
      "0000007382 00000 n \n",
      "0000007435 00000 n \n",
      "0000007459 00000 n \n",
      "trailer\n",
      "<< /Size 19 /Root 11 0 R /Info 1 0 R /ID [ <e4c4892da9e4210e1337861985e5f085>\n",
      "<e4c4892da9e4210e1337861985e5f085> ] >>\n",
      "startxref\n",
      "7606\n",
      "%%EOF\n"
     ]
    }
   ],
   "source": [
    "!cat files/dat.pdf"
   ]
  },
  {
   "cell_type": "code",
   "execution_count": 33,
   "metadata": {
    "collapsed": false,
    "nbpresent": {
     "id": "90c12e23-c89b-4083-a60e-f2e693a5cb85"
    }
   },
   "outputs": [
    {
     "data": {
      "text/html": [
       "\n",
       "        <iframe\n",
       "            width=\"750\"\n",
       "            height=\"300\"\n",
       "            src=\"./files/dat.pdf\"\n",
       "            frameborder=\"0\"\n",
       "            allowfullscreen\n",
       "        ></iframe>\n",
       "        "
      ],
      "text/plain": [
       "<IPython.lib.display.IFrame at 0x110241358>"
      ]
     },
     "execution_count": 33,
     "metadata": {},
     "output_type": "execute_result"
    }
   ],
   "source": [
    "# Check out what the PDF actually looks like (in rendered form)\n",
    "from IPython.display import IFrame\n",
    "IFrame(\"./files/dat.pdf\", width=750, height=300)"
   ]
  },
  {
   "cell_type": "markdown",
   "metadata": {
    "nbpresent": {
     "id": "9bdaab30-6924-4c78-b3f6-5d4bdcc79286"
    }
   },
   "source": [
    "<br><br><br><br><br><br><br><br><br>"
   ]
  },
  {
   "cell_type": "markdown",
   "metadata": {
    "nbpresent": {
     "id": "52aa3500-6ec8-4f49-a970-ed9543f431b7"
    }
   },
   "source": [
    "# Databases\n",
    "<br>\n",
    "<div class=\"alert alert-success\">\n",
    "A database is an organized collection of data. More formally, 'database' refers to a set of related data, and the way it is organized. \n",
    "</div>"
   ]
  },
  {
   "cell_type": "markdown",
   "metadata": {
    "nbpresent": {
     "id": "caf3d809-428c-48b2-9c47-f9f57dd9cfff"
    }
   },
   "source": [
    "<br>\n",
    "<img src=\"img/sql.png\" alt=\"sql\" height=\"400\" width=\"400\">"
   ]
  },
  {
   "cell_type": "markdown",
   "metadata": {},
   "source": [
    "<br>\n",
    "## Data from the Web\n",
    "<a> https://www.data.gov/ </a> <br>\n",
    "<a> https://data.sandiego.gov/ </a>"
   ]
  },
  {
   "cell_type": "markdown",
   "metadata": {},
   "source": [
    "<br><br>\n",
    "<img src=\"img/data_gov.png\" alt=\"gov_dat\" height=\"500\" width=\"750\">\n",
    "<br><br>"
   ]
  },
  {
   "cell_type": "markdown",
   "metadata": {},
   "source": [
    "<br><br>\n",
    "<img src=\"img/sd_data.png\" alt=\"sd_dat\" height=\"500\" width=\"750\">\n",
    "<br><br>"
   ]
  },
  {
   "cell_type": "markdown",
   "metadata": {
    "nbpresent": {
     "id": "994a5bf7-95d0-484d-bd00-4368c70ce9ec"
    }
   },
   "source": [
    "## Application Program Interface (APIs)\n",
    "<br>\n",
    "<div class=\"alert alert-success\">\n",
    "APIs are basically a way for software to talk to software - it is an interface into an application / website / database designed for computers / software.\n",
    "</div>\n",
    "\n",
    "\n",
    "\n",
    "Notes on APIs:\n",
    "- Follow API guidelines! \n",
    "    - These guidelines typically specify the number / rate / size of requests"
   ]
  },
  {
   "cell_type": "markdown",
   "metadata": {},
   "source": [
    "<br>\n",
    "<img src=\"img/pubmed.png\" alt=\"sql\" height=\"400\" width=\"400\">"
   ]
  },
  {
   "cell_type": "markdown",
   "metadata": {
    "collapsed": true
   },
   "source": [
    "## # Pubmed API\n",
    "\n",
    "You can access the Pubmed search API with the following API. Add a term at the end to search for. \n",
    "http://eutils.ncbi.nlm.nih.gov/entrez/eutils/esearch.fcgi?'&term="
   ]
  },
  {
   "cell_type": "markdown",
   "metadata": {},
   "source": [
    "<br>\n",
    "<img src=\"img/twitter.png\" alt=\"sql\" height=\"350\" width=\"350\">"
   ]
  },
  {
   "cell_type": "code",
   "execution_count": null,
   "metadata": {
    "collapsed": false,
    "nbpresent": {
     "id": "c2d100e5-6f9d-421f-9e13-5a66644e7d96"
    }
   },
   "outputs": [],
   "source": [
    "# Accessing Twitter API from Python\n",
    "#  Note: to run this, you will have to fill in stw.py with your OAuth credentials.\n",
    "#    You can do that here: https://apps.twitter.com/\n",
    "\n",
    "# Import tweepy to access API\n",
    "import tweepy\n",
    "from tweepy import OAuthHandler\n",
    "\n",
    "# Import my API credentials\n",
    "from stw import *\n",
    "\n",
    "# Twitter API requires Authentification with OAuth\n",
    "auth = OAuthHandler(CONSUMER_KEY, CONSUMER_SECRET)\n",
    "auth.set_access_token(ACCESS_TOKEN, ACCESS_SECRET)\n",
    "\n",
    "# Create an API object to access Twitter\n",
    "api = tweepy.API(auth)\n",
    "\n",
    "for status in tweepy.Cursor(api.home_timeline).items(3):\n",
    "    # Process a single status\n",
    "    print(status.user.name)\n",
    "    print(status.text, '\\n') "
   ]
  },
  {
   "cell_type": "code",
   "execution_count": null,
   "metadata": {
    "collapsed": false
   },
   "outputs": [],
   "source": [
    "# Check out some information of the API object\n",
    "api?"
   ]
  },
  {
   "cell_type": "markdown",
   "metadata": {
    "collapsed": true
   },
   "source": [
    "### Authorized Access - OAuth\n",
    "<br>\n",
    "<div class=\"alert alert-success\">\n",
    "Open Authorization is a protocol to authorize access (of a user / application) to an API. It provides a secure way to 'log-in' without using account names and passwords. It is effectively a set of keys, and passwords you can use to access APIs. \n",
    "</div>"
   ]
  },
  {
   "cell_type": "markdown",
   "metadata": {},
   "source": [
    "<br>\n",
    "<img src=\"img/github.png\" alt=\"sql\" height=\"350\" width=\"350\">"
   ]
  },
  {
   "cell_type": "markdown",
   "metadata": {
    "collapsed": false,
    "nbpresent": {
     "id": "e59ef788-bc3c-4e31-bc2a-cb6d0eb95bbb"
    }
   },
   "source": [
    "## Github API\n",
    "\n",
    "You can access the github api with the following API. Just added specifiers for what you are looking for. \n",
    "\n",
    "https://api.github.com/\n",
    "\n",
    "For example, the following URL will search for the user 'TomDonoghue'\n",
    "\n",
    "https://api.github.com/users/tomdonoghue"
   ]
  },
  {
   "cell_type": "code",
   "execution_count": 24,
   "metadata": {
    "collapsed": false,
    "nbpresent": {
     "id": "9fa4713f-9fc3-4c89-9ea7-8e8943cfad11"
    }
   },
   "outputs": [],
   "source": [
    "# The requests module allows you to send URL requests from python\n",
    "import requests\n",
    "from bs4 import BeautifulSoup"
   ]
  },
  {
   "cell_type": "code",
   "execution_count": 25,
   "metadata": {
    "collapsed": true,
    "nbpresent": {
     "id": "a9af6f77-355e-421c-ad31-0b710df514a9"
    }
   },
   "outputs": [],
   "source": [
    "# Request data from the Github API on a particular user\n",
    "page = requests.get('https://api.github.com/users/tomdonoghue')"
   ]
  },
  {
   "cell_type": "code",
   "execution_count": 26,
   "metadata": {
    "collapsed": false
   },
   "outputs": [
    {
     "data": {
      "text/plain": [
       "b'{\"login\":\"TomDonoghue\",\"id\":7727566,\"avatar_url\":\"https://avatars3.githubusercontent.com/u/7727566?v=3\",\"gravatar_id\":\"\",\"url\":\"https://api.github.com/users/TomDonoghue\",\"html_url\":\"https://github.com/TomDonoghue\",\"followers_url\":\"https://api.github.com/users/TomDonoghue/followers\",\"following_url\":\"https://api.github.com/users/TomDonoghue/following{/other_user}\",\"gists_url\":\"https://api.github.com/users/TomDonoghue/gists{/gist_id}\",\"starred_url\":\"https://api.github.com/users/TomDonoghue/starred{/owner}{/repo}\",\"subscriptions_url\":\"https://api.github.com/users/TomDonoghue/subscriptions\",\"organizations_url\":\"https://api.github.com/users/TomDonoghue/orgs\",\"repos_url\":\"https://api.github.com/users/TomDonoghue/repos\",\"events_url\":\"https://api.github.com/users/TomDonoghue/events{/privacy}\",\"received_events_url\":\"https://api.github.com/users/TomDonoghue/received_events\",\"type\":\"User\",\"site_admin\":false,\"name\":\"Tom\",\"company\":\"UC San Diego\",\"blog\":\"tomdonoghue.github.io\",\"location\":\"San Diego\",\"email\":\"thomasdonoghue@hotmail.ca\",\"hireable\":null,\"bio\":\"Cognitive Science Grad Student @ UCSD. \\\\r\\\\nOn Twitter @TomDonoghue\",\"public_repos\":6,\"public_gists\":0,\"followers\":1,\"following\":8,\"created_at\":\"2014-05-28T20:20:48Z\",\"updated_at\":\"2017-04-13T21:55:58Z\"}'"
      ]
     },
     "execution_count": 26,
     "metadata": {},
     "output_type": "execute_result"
    }
   ],
   "source": [
    "# The content we get back is a messily organized json file\n",
    "page.content"
   ]
  },
  {
   "cell_type": "code",
   "execution_count": 27,
   "metadata": {
    "collapsed": false
   },
   "outputs": [
    {
     "data": {
      "text/plain": [
       "avatar_url             https://avatars3.githubusercontent.com/u/77275...\n",
       "bio                    Cognitive Science Grad Student @ UCSD. \\r\\nOn ...\n",
       "blog                                               tomdonoghue.github.io\n",
       "company                                                     UC San Diego\n",
       "created_at                                          2014-05-28T20:20:48Z\n",
       "email                                          thomasdonoghue@hotmail.ca\n",
       "events_url             https://api.github.com/users/TomDonoghue/event...\n",
       "followers                                                              1\n",
       "followers_url          https://api.github.com/users/TomDonoghue/follo...\n",
       "following                                                              8\n",
       "following_url          https://api.github.com/users/TomDonoghue/follo...\n",
       "gists_url              https://api.github.com/users/TomDonoghue/gists...\n",
       "gravatar_id                                                             \n",
       "hireable                                                            None\n",
       "html_url                                  https://github.com/TomDonoghue\n",
       "id                                                               7727566\n",
       "location                                                       San Diego\n",
       "login                                                        TomDonoghue\n",
       "name                                                                 Tom\n",
       "organizations_url          https://api.github.com/users/TomDonoghue/orgs\n",
       "public_gists                                                           0\n",
       "public_repos                                                           6\n",
       "received_events_url    https://api.github.com/users/TomDonoghue/recei...\n",
       "repos_url                 https://api.github.com/users/TomDonoghue/repos\n",
       "site_admin                                                         False\n",
       "starred_url            https://api.github.com/users/TomDonoghue/starr...\n",
       "subscriptions_url      https://api.github.com/users/TomDonoghue/subsc...\n",
       "type                                                                User\n",
       "updated_at                                          2017-04-13T21:55:58Z\n",
       "url                             https://api.github.com/users/TomDonoghue\n",
       "dtype: object"
      ]
     },
     "execution_count": 27,
     "metadata": {},
     "output_type": "execute_result"
    }
   ],
   "source": [
    "# We can read in the json data with pandas\n",
    "pd.read_json(page.content, typ='series')"
   ]
  },
  {
   "cell_type": "code",
   "execution_count": 28,
   "metadata": {
    "collapsed": false
   },
   "outputs": [
    {
     "name": "stdout",
     "output_type": "stream",
     "text": [
      "<?xml version=\"1.0\" ?><!DOCTYPE PubmedArticleSet PUBLIC \"-//NLM//DTD PubMedArticle, 1st January 2017//EN\" \"https://dtd.nlm.nih.gov/ncbi/pubmed/out/pubmed_170101.dtd\">\n",
      "<html><body><pubmedarticleset>\n",
      "<pubmedarticle>\n",
      "<medlinecitation owner=\"NLM\" status=\"Publisher\">\n",
      "<pmid version=\"1\">28410530</pmid>\n",
      "<datecreated>\n",
      "<year>2017</year>\n",
      "<month>04</month>\n",
      "<day>14</day>\n",
      "</datecreated>\n",
      "<daterevised>\n",
      "<year>2017</year>\n",
      "<month>04</month>\n",
      "<day>14</day>\n",
      "</daterevised>\n",
      "<article pubmodel=\"Print-Electronic\">\n",
      "<journal>\n",
      "<issn issntype=\"Electronic\">1878-1705</issn>\n",
      "<journalissue citedmedium=\"Internet\">\n",
      "<volume>47</volume>\n",
      "<pubdate>\n",
      "<year>2017</year>\n",
      "<month>Apr</month>\n",
      "<day>11</day>\n",
      "</pubdate>\n",
      "</journalissue>\n",
      "<title>International immunopharmacology</title>\n",
      "<isoabbreviation>Int. Immunopharmacol.</isoabbreviation>\n",
      "</journal>\n",
      "<articletitle>Metformin attenuated endotoxin-induced acute myocarditis via activating AMPK.</articletitle>\n",
      "<pagination>\n",
      "<medlinepgn>166-172</medlinepgn>\n",
      "</pagination>\n",
      "<elocationid eidtype=\"pii\" validyn=\"Y\">S1567-5769(17)30136-4</elocationid>\n",
      "<elocationid eidtype=\"doi\" validyn=\"Y\">10.1016/j.intimp.2017.04.002</elocationid>\n",
      "<abstract>\n",
      "<abstracttext>Metformin is a widely used anti-diabetic drug and increasing evidence suggests that metformin have profound cardioprotective effects under both diabetic and non-diabetic situations. The protective benefits of metformin have been proved in diabetic patients with cardiovascular complications and in experimental animals with myocardial infarction and cardiac hypertrophy. In the present study, we found that treatment with metformin inhibited the cardiac expression of pro-inflammatory cytokines including tumor necrosis factor alpha (TNF-α), interleukin 1 beta (IL-1β) and interleukin 6 (IL-6) in endotoxin-challenged mice. Treatment with metformin also alleviated the histological abnormalities in the heart, suppressed the upregulation of myeloperoxidase (MPO), decreased the elevation of creatinine kinase-myocardial band (CK-MB) and brain natriuretic peptide (BNP). Treatment with metformin promoted the phosphorylation of the catalytic α subunit of adenosine 5'-monophosphate-activated protein kinase (AMPKα), co-administration of AMPK inhibitor suppressed the stimulatory effects of metformin on AMPKα phosphorylation. Meanwhile, the suppressive effects of metformin on MPO, TNF-α, CK-MB and BNP were reversed by the AMPK inhibitor. On the contrary, administration of AMPK activator mimicked the effects of metformin on AMPKα phosphorylation, MPO upregulation, CK-MB release and BNP elevation. These evidence suggested that metformin might provide beneficial effects in endotoxin-induced acute myocarditis via activating AMPK-dependent anti-inflammatory mechanism.</abstracttext>\n",
      "<copyrightinformation>Copyright © 2017 Elsevier B.V. All rights reserved.</copyrightinformation>\n",
      "</abstract>\n",
      "<authorlist completeyn=\"Y\">\n",
      "<author validyn=\"Y\">\n",
      "<lastname>Liu</lastname>\n",
      "<forename>Gang</forename>\n",
      "<initials>G</initials>\n",
      "<affiliationinfo>\n",
      "<affiliation>Department of Emergency, University-Town Hospital of Chongqing Medical University, Chongqing, China.</affiliation>\n",
      "</affiliationinfo>\n",
      "</author>\n",
      "<author validyn=\"Y\">\n",
      "<lastname>Wu</lastname>\n",
      "<forename>Kejia</forename>\n",
      "<initials>K</initials>\n",
      "<affiliationinfo>\n",
      "<affiliation>Department of Pathophysiology, Chongqing Medical University, Chongqing, China.</affiliation>\n",
      "</affiliationinfo>\n",
      "</author>\n",
      "<author validyn=\"Y\">\n",
      "<lastname>Zhang</lastname>\n",
      "<forename>Li</forename>\n",
      "<initials>L</initials>\n",
      "<affiliationinfo>\n",
      "<affiliation>Department of Pathophysiology, Chongqing Medical University, Chongqing, China.</affiliation>\n",
      "</affiliationinfo>\n",
      "</author>\n",
      "<author validyn=\"Y\">\n",
      "<lastname>Dai</lastname>\n",
      "<forename>Jie</forename>\n",
      "<initials>J</initials>\n",
      "<affiliationinfo>\n",
      "<affiliation>Hospital of Chongqing University of Arts and Sciences, Chongqing, China.</affiliation>\n",
      "</affiliationinfo>\n",
      "</author>\n",
      "<author validyn=\"Y\">\n",
      "<lastname>Huang</lastname>\n",
      "<forename>Wei</forename>\n",
      "<initials>W</initials>\n",
      "<affiliationinfo>\n",
      "<affiliation>Department of Cardiology, The First Affiliated Hospital of Chongqing Medical University, Chongqing, China.</affiliation>\n",
      "</affiliationinfo>\n",
      "</author>\n",
      "<author validyn=\"Y\">\n",
      "<lastname>Lin</lastname>\n",
      "<forename>Ling</forename>\n",
      "<initials>L</initials>\n",
      "<affiliationinfo>\n",
      "<affiliation>Department of Pathophysiology, Chongqing Medical University, Chongqing, China.</affiliation>\n",
      "</affiliationinfo>\n",
      "</author>\n",
      "<author validyn=\"Y\">\n",
      "<lastname>Ge</lastname>\n",
      "<forename>Pu</forename>\n",
      "<initials>P</initials>\n",
      "<affiliationinfo>\n",
      "<affiliation>Department of Pathophysiology, Chongqing Medical University, Chongqing, China.</affiliation>\n",
      "</affiliationinfo>\n",
      "</author>\n",
      "<author validyn=\"Y\">\n",
      "<lastname>Luo</lastname>\n",
      "<forename>Fuling</forename>\n",
      "<initials>F</initials>\n",
      "<affiliationinfo>\n",
      "<affiliation>Department of Pharmacy, the First Affiliated Hospital of Chongqing Medical University, Chongqing, China.</affiliation>\n",
      "</affiliationinfo>\n",
      "</author>\n",
      "<author validyn=\"Y\">\n",
      "<lastname>Lei</lastname>\n",
      "<forename>Han</forename>\n",
      "<initials>H</initials>\n",
      "<affiliationinfo>\n",
      "<affiliation>Department of Cardiology, The First Affiliated Hospital of Chongqing Medical University, Chongqing, China. Electronic address: leihan@cqmu.edu.cn.</affiliation>\n",
      "</affiliationinfo>\n",
      "</author>\n",
      "</authorlist>\n",
      "<language>eng</language>\n",
      "<publicationtypelist>\n",
      "<publicationtype ui=\"D016428\">Journal Article</publicationtype>\n",
      "</publicationtypelist>\n",
      "<articledate datetype=\"Electronic\">\n",
      "<year>2017</year>\n",
      "<month>04</month>\n",
      "<day>11</day>\n",
      "</articledate>\n",
      "</article>\n",
      "<medlinejournalinfo>\n",
      "<country>Netherlands</country>\n",
      "<medlineta>Int Immunopharmacol</medlineta>\n",
      "<nlmuniqueid>100965259</nlmuniqueid>\n",
      "<issnlinking>1567-5769</issnlinking>\n",
      "</medlinejournalinfo>\n",
      "<keywordlist owner=\"NOTNLM\">\n",
      "<keyword majortopicyn=\"N\">AMP-activated protein kinase</keyword>\n",
      "<keyword majortopicyn=\"N\">Endotoxin</keyword>\n",
      "<keyword majortopicyn=\"N\">Inflammation</keyword>\n",
      "<keyword majortopicyn=\"N\">Metformin</keyword>\n",
      "<keyword majortopicyn=\"N\">Myocarditis</keyword>\n",
      "</keywordlist>\n",
      "</medlinecitation>\n",
      "<pubmeddata>\n",
      "<history>\n",
      "<pubmedpubdate pubstatus=\"received\">\n",
      "<year>2016</year>\n",
      "<month>11</month>\n",
      "<day>25</day>\n",
      "</pubmedpubdate>\n",
      "<pubmedpubdate pubstatus=\"revised\">\n",
      "<year>2017</year>\n",
      "<month>03</month>\n",
      "<day>22</day>\n",
      "</pubmedpubdate>\n",
      "<pubmedpubdate pubstatus=\"accepted\">\n",
      "<year>2017</year>\n",
      "<month>04</month>\n",
      "<day>03</day>\n",
      "</pubmedpubdate>\n",
      "<pubmedpubdate pubstatus=\"entrez\">\n",
      "<year>2017</year>\n",
      "<month>4</month>\n",
      "<day>15</day>\n",
      "<hour>6</hour>\n",
      "<minute>0</minute>\n",
      "</pubmedpubdate>\n",
      "<pubmedpubdate pubstatus=\"pubmed\">\n",
      "<year>2017</year>\n",
      "<month>4</month>\n",
      "<day>15</day>\n",
      "<hour>6</hour>\n",
      "<minute>0</minute>\n",
      "</pubmedpubdate>\n",
      "<pubmedpubdate pubstatus=\"medline\">\n",
      "<year>2017</year>\n",
      "<month>4</month>\n",
      "<day>15</day>\n",
      "<hour>6</hour>\n",
      "<minute>0</minute>\n",
      "</pubmedpubdate>\n",
      "</history>\n",
      "<publicationstatus>aheadofprint</publicationstatus>\n",
      "<articleidlist>\n",
      "<articleid idtype=\"pubmed\">28410530</articleid>\n",
      "<articleid idtype=\"pii\">S1567-5769(17)30136-4</articleid>\n",
      "<articleid idtype=\"doi\">10.1016/j.intimp.2017.04.002</articleid>\n",
      "</articleidlist>\n",
      "</pubmeddata>\n",
      "</pubmedarticle>\n",
      "</pubmedarticleset>\n",
      "</body></html>\n"
     ]
    }
   ],
   "source": [
    "# First explore APIs through the browser, but ultimately you want to do this through python\n",
    "#  For another example, request info from the Pubmed API on a particular paper\n",
    "#     Then parse the returned XML file with Beautiful Soup\n",
    "page = requests.get(\"http://eutils.ncbi.nlm.nih.gov/entrez/\" \\\n",
    "                    \"eutils/efetch.fcgi?&retmode=xml&db=pubmed&id=28410530\")\n",
    "pretty_pubmed_data = BeautifulSoup(page.content, 'lxml')\n",
    "print(pretty_pubmed_data)"
   ]
  },
  {
   "cell_type": "markdown",
   "metadata": {
    "collapsed": true
   },
   "source": [
    "## Web Scraping vs. APIs\n",
    "<br>\n",
    "Web scraping and APIs are somewhat different - APIs are (typically) an online interface to send requests and access the database of some application, which returns structured data. Web scraping (typically) involves programmatically searching through websites, and all the mess that that entails. From a 'data-wrangling' perspective, returned API data is usually fairly well structured, where as web scraping can be a massive data collection and organization project."
   ]
  },
  {
   "cell_type": "markdown",
   "metadata": {},
   "source": [
    "## Unstructured Data\n",
    "<br>\n",
    "Large amounts of data are stored in unstrucured formats, such as free form text files. This kind of data takes a lot of wrangling. "
   ]
  },
  {
   "cell_type": "code",
   "execution_count": 29,
   "metadata": {
    "collapsed": false,
    "nbpresent": {
     "id": "fdfece81-86d9-4b9c-bdbd-0073ed444762"
    }
   },
   "outputs": [
    {
     "name": "stdout",
     "output_type": "stream",
     "text": [
      "CLINICAL HISTORY:  This is a 75-year-old female with history of bilateral MCA stroke who presents with staring spells concerned for complex partial seizures.\r\n",
      "\r\n",
      "MEDICATIONS:  Levetiracetam, gabapentin, metoprolol, atorvastatin.\r\n",
      "\r\n",
      "INTRODUCTION:  Digital video EEG was performed at the bedside using standard 10/20 system of electrode placement with 1 channel EKG.  Hyperventilation and photic stimulation were not performed.\r\n",
      "\r\n",
      "DESCRIPTION OF THE RECORD:  This is a technically limited EEG with muscle artifact throughout the recording.  There was no cerebral waveform activity were detectable.  Heart rate was 60 beats per minute and regular.\r\n",
      "\r\n",
      "IMPRESSION:  This is a technically limited EEG due to diffuse muscle artifact throughout the recording.\r\n",
      "\r\n",
      "CLINICAL IMPRESSION:  The EEG was not readable.  A repeat EEG is recommended.\r\n",
      "\r\n",
      "\r\n",
      "\r\n"
     ]
    }
   ],
   "source": [
    "# Unstructured Text / Data: Example from a public database on clinical brain (EEG) recordings\n",
    "!cat files/00000201_eg.txt"
   ]
  },
  {
   "cell_type": "code",
   "execution_count": 30,
   "metadata": {
    "collapsed": false
   },
   "outputs": [
    {
     "name": "stdout",
     "output_type": "stream",
     "text": [
      "Name                                                         S1\n",
      "Medication    [Levetiracetam, gabapentin, metoprolo, atorvas...\n",
      "IsReadable                                                False\n",
      "dtype: object\n"
     ]
    }
   ],
   "source": [
    "# What we really want, is this data organized into data objects, for example with pandas series\n",
    "labels = ['Name', 'Medication', 'IsReadable']\n",
    "dat = ['S1', ['Levetiracetam', 'gabapentin', 'metoprolo', 'atorvastatin'], False]\n",
    "ser = pd.Series(dat, labels)\n",
    "print(ser)"
   ]
  },
  {
   "cell_type": "code",
   "execution_count": 31,
   "metadata": {
    "collapsed": false
   },
   "outputs": [
    {
     "name": "stdout",
     "output_type": "stream",
     "text": [
      "  Name                                         Medication IsReadable\n",
      "0   S1  [Levetiracetam, gabapentin, metoprolo, atorvas...      False\n",
      "1   S2                                                 []       True\n"
     ]
    }
   ],
   "source": [
    "# Really, we want this for all subjects, combined into a friendly dataframe\n",
    "\n",
    "# Make second subject\n",
    "dat_2 = ['S2', [], True]\n",
    "ser_2 = pd.Series(dat_2, labels)\n",
    " \n",
    "# Create the dataframe\n",
    "df = pd.DataFrame([ser, ser_2])\n",
    "print(df)"
   ]
  },
  {
   "cell_type": "code",
   "execution_count": 32,
   "metadata": {
    "collapsed": false
   },
   "outputs": [
    {
     "name": "stdout",
     "output_type": "stream",
     "text": [
      "  Name Medication IsReadable\n",
      "1   S2         []       True\n"
     ]
    }
   ],
   "source": [
    "# Then we could index to only keep subjects with readable data\n",
    "good_dat = df.loc[df['IsReadable'] == True]\n",
    "print(good_dat)"
   ]
  },
  {
   "cell_type": "markdown",
   "metadata": {},
   "source": [
    "Note, however, the massive wrangling problem we have here. How can we systematically and consistently get 10,000 unstructured text files into a friendly dataframe to explore?\n",
    "(Seriously - if you figure it out, let me know)."
   ]
  },
  {
   "cell_type": "markdown",
   "metadata": {
    "nbpresent": {
     "id": "e5a905da-3651-48f8-b746-e94b561e7f00"
    }
   },
   "source": [
    "<br><br>\n",
    "<center> <h2> Data Wrangling: How did we get here? </h2></center>\n",
    "\n",
    "### Data Science is Ad-Hoc\n",
    "- It is part of the job description to put things together that were not designed to go together.\n",
    "- We do not have universal solutions, but haphazard, idiosyncratic systems, for data collection, storage and analysis.\n",
    "- Data is everywhere. But relatively little of it was collected *as data*."
   ]
  },
  {
   "cell_type": "markdown",
   "metadata": {
    "nbpresent": {
     "id": "772107b8-0285-481b-b0c2-bb6b8aba6deb"
    }
   },
   "source": [
    "### Data is Inherently Noisy\n",
    "\n",
    "- We live in a messy, noisy, world, with messy, noisy, people, using messy, noisy instruments.\n",
    "- There is no perfect data. There is better / or worse data, given the context."
   ]
  },
  {
   "cell_type": "markdown",
   "metadata": {
    "collapsed": true,
    "nbpresent": {
     "id": "4403fb6a-c1a3-46d8-8c0e-bfce60aa5bd2"
    }
   },
   "source": [
    "### Different Objectives\n",
    "\n",
    "- Humans and computers are different.\n",
    "- We interact with '*data*' in different ways.\n",
    "- This underlies many aspects of data wrangling\n",
    "    - The 'friendliness' of data types / files\n",
    "    - The difference between web scraping and APIs\n",
    "    - A disconnect between data in the real world, and data we want to use"
   ]
  },
  {
   "cell_type": "markdown",
   "metadata": {
    "nbpresent": {
     "id": "8b298414-9b76-4544-99e6-2c6aa8c1567d"
    }
   },
   "source": [
    "# So... What to do?\n",
    "\n",
    "- Consider ecological validity (to what extent does your data map to the real world)\n",
    "    - Data wrangling and cleaning issues are likely to scale with ecological validity.\n",
    "- Consider the fidelity of the data you are using\n",
    "    - Try to get a feeling of the signal to noise ratio of your data.\n",
    "- Develop a theory of mind for {computers, python}\n",
    "    - Try to understand what your computer 'wants'.\n",
    "- What is the *context* of the data\n",
    "    - How was it generated, and why."
   ]
  }
 ],
 "metadata": {
  "anaconda-cloud": {},
  "kernelspec": {
   "display_name": "Python 3",
   "language": "python",
   "name": "python3"
  },
  "language_info": {
   "codemirror_mode": {
    "name": "ipython",
    "version": 3
   },
   "file_extension": ".py",
   "mimetype": "text/x-python",
   "name": "python",
   "nbconvert_exporter": "python",
   "pygments_lexer": "ipython3",
   "version": "3.6.0"
  },
  "nbpresent": {
   "slides": {
    "00c5a959-3b80-4bba-b3b9-e71ad7f8f18d": {
     "id": "00c5a959-3b80-4bba-b3b9-e71ad7f8f18d",
     "prev": "66d55437-0b1b-4b12-b290-d67399722f92",
     "regions": {
      "3931a3e8-0525-4c54-be6d-0c59f44a0ede": {
       "attrs": {
        "height": 1,
        "width": 1,
        "x": 0,
        "y": 0
       },
       "content": {
        "cell": "32b1cdee-547c-4161-bfdc-a4c3e7bae228",
        "part": "source"
       },
       "id": "3931a3e8-0525-4c54-be6d-0c59f44a0ede"
      }
     }
    },
    "28fda974-8aff-4921-a077-64f0b227d498": {
     "id": "28fda974-8aff-4921-a077-64f0b227d498",
     "prev": "779636ec-b91b-41ac-9ec1-db4288f15f92",
     "regions": {
      "429724b5-af33-4c37-a198-b7f277244c86": {
       "attrs": {
        "height": 0.8,
        "width": 0.45,
        "x": 0.5,
        "y": 0.1
       },
       "content": {
        "cell": "46fee87e-a300-4822-9bb1-ee07ef16c787",
        "part": "source"
       },
       "id": "429724b5-af33-4c37-a198-b7f277244c86"
      },
      "d3518df6-b0cc-4736-94fb-0e49d8f2ea1d": {
       "attrs": {
        "height": 0.8,
        "width": 0.45,
        "x": 0.05,
        "y": 0.1
       },
       "content": {
        "cell": "b4c3476a-652b-47a5-ba9d-3e600aae91a9",
        "part": "source"
       },
       "id": "d3518df6-b0cc-4736-94fb-0e49d8f2ea1d"
      }
     }
    },
    "66d55437-0b1b-4b12-b290-d67399722f92": {
     "id": "66d55437-0b1b-4b12-b290-d67399722f92",
     "prev": null,
     "regions": {
      "47aa7906-d9d4-41b6-b4fe-d86e0fc7981f": {
       "attrs": {
        "height": 1,
        "width": 1,
        "x": 0,
        "y": 0
       },
       "content": {
        "cell": "5522f6c9-cef7-4813-a205-07e28ed8c85b",
        "part": "source"
       },
       "id": "47aa7906-d9d4-41b6-b4fe-d86e0fc7981f"
      }
     }
    },
    "779636ec-b91b-41ac-9ec1-db4288f15f92": {
     "id": "779636ec-b91b-41ac-9ec1-db4288f15f92",
     "prev": "a02fe6cb-a827-449f-8c7e-2e2bed73064d",
     "regions": {
      "bc4306a3-eda6-454b-ba6c-1a1769686ddd": {
       "attrs": {
        "height": 1,
        "width": 1,
        "x": 0,
        "y": 0
       },
       "content": {
        "cell": "fa296210-1a91-4641-88ac-80158640a828",
        "part": "source"
       },
       "id": "bc4306a3-eda6-454b-ba6c-1a1769686ddd"
      }
     }
    },
    "a02fe6cb-a827-449f-8c7e-2e2bed73064d": {
     "id": "a02fe6cb-a827-449f-8c7e-2e2bed73064d",
     "prev": "00c5a959-3b80-4bba-b3b9-e71ad7f8f18d",
     "regions": {
      "cfe2f797-96f4-40be-85da-3bdf3dd3a402": {
       "attrs": {
        "height": 1,
        "width": 1,
        "x": 0,
        "y": 0
       },
       "content": {
        "cell": "627e7a82-cab5-41d1-9205-dd348e5f7557",
        "part": "source"
       },
       "id": "cfe2f797-96f4-40be-85da-3bdf3dd3a402"
      }
     }
    }
   },
   "themes": {}
  }
 },
 "nbformat": 4,
 "nbformat_minor": 2
}
