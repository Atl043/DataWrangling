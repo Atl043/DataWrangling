{
 "cells": [
  {
   "cell_type": "code",
   "execution_count": 85,
   "metadata": {
    "collapsed": false,
    "nbpresent": {
     "id": "e8fafa77-2a9b-452b-a6c9-13728feec645"
    }
   },
   "outputs": [
    {
     "data": {
      "text/html": [
       "\n",
       "<style>\n",
       ":root { --fs1: 14px; --fs2: 20px; --fs3: 40px}\n",
       "h1 {font-size: var(--fs3) !important; text-align: center; font-family: Palatino Linotype;}\n",
       "h2 {font-size: var(--fs2) !important; text-align: center; font-family: Palatino Linotype;}\n",
       "p {font-size: var(--fs1); line-height:120%;}\n",
       "ul {font-size: var(--fs1); line-height:120%;}\n",
       ".CodeMirror {font-size: var(--fs1); line-height:120%;}\n",
       ".output {font-size: var(--fs1);}\n",
       "</style>\n"
      ],
      "text/plain": [
       "<IPython.core.display.HTML object>"
      ]
     },
     "execution_count": 85,
     "metadata": {},
     "output_type": "execute_result"
    }
   ],
   "source": [
    "#:root { --fs1: 25px; --fs2: 40px; --fs3: 80px}\n",
    "\n",
    "from IPython.core.display import HTML\n",
    "HTML(\"\"\"\n",
    "<style>\n",
    ":root { --fs1: 14px; --fs2: 20px; --fs3: 40px}\n",
    "h1 {font-size: var(--fs3) !important; text-align: center; font-family: Palatino Linotype;}\n",
    "h2 {font-size: var(--fs2) !important; text-align: center; font-family: Palatino Linotype;}\n",
    "p {font-size: var(--fs1); line-height:120%;}\n",
    "ul {font-size: var(--fs1); line-height:120%;}\n",
    ".CodeMirror {font-size: var(--fs1); line-height:120%;}\n",
    ".output {font-size: var(--fs1);}\n",
    "</style>\n",
    "\"\"\") "
   ]
  },
  {
   "cell_type": "markdown",
   "metadata": {
    "nbpresent": {
     "id": "5522f6c9-cef7-4813-a205-07e28ed8c85b"
    },
    "slideshow": {
     "slide_type": "slide"
    }
   },
   "source": [
    "<br><br><br><br><br>\n",
    "<h1> Data Wrangling </h1>\n",
    "\n",
    "<br><br><br>\n",
    "\n",
    "<h2> Thomas Donoghue </h2>\n",
    "<h2> COGS 108 - April 14th, 2017 </h2>\n",
    "<br><br><br>"
   ]
  },
  {
   "cell_type": "markdown",
   "metadata": {
    "nbpresent": {
     "id": "32b1cdee-547c-4161-bfdc-a4c3e7bae228"
    },
    "slideshow": {
     "slide_type": "slide"
    }
   },
   "source": [
    "<br><br>\n",
    "\n",
    "## High Level Learning Goals\n",
    "\n",
    "- Notice that data is everywhere. In particular I want you to think of the web as a data playground.\n",
    "\n",
    "- Dealing with data is mostly 'administrative'. How do you organize data into useable formats."
   ]
  },
  {
   "cell_type": "markdown",
   "metadata": {},
   "source": [
    "<br><br>\n",
    "\n",
    "## How are we going to do this:\n",
    "\n",
    "- A crash course on file types, data formats, and databases\n",
    "- The what and how of APIs"
   ]
  },
  {
   "cell_type": "markdown",
   "metadata": {},
   "source": [
    "# Data Sources\n",
    "- Files\n",
    "- Databases\n",
    "- Web Scraping & APIs"
   ]
  },
  {
   "cell_type": "code",
   "execution_count": null,
   "metadata": {
    "collapsed": true
   },
   "outputs": [],
   "source": []
  },
  {
   "cell_type": "code",
   "execution_count": null,
   "metadata": {
    "collapsed": true
   },
   "outputs": [],
   "source": []
  },
  {
   "cell_type": "code",
   "execution_count": null,
   "metadata": {
    "collapsed": true
   },
   "outputs": [],
   "source": []
  },
  {
   "cell_type": "code",
   "execution_count": null,
   "metadata": {
    "collapsed": true
   },
   "outputs": [],
   "source": []
  },
  {
   "cell_type": "markdown",
   "metadata": {},
   "source": [
    "## Friendly File Types:\n",
    "- csv\n",
    "- tsv\n",
    "- json\n",
    "- (unstructured) txt\n",
    "-"
   ]
  },
  {
   "cell_type": "markdown",
   "metadata": {},
   "source": [
    "## Unfriendly File Types:\n",
    "- pdf\n",
    "- docx"
   ]
  },
  {
   "cell_type": "code",
   "execution_count": 105,
   "metadata": {
    "collapsed": false
   },
   "outputs": [
    {
     "name": "stdout",
     "output_type": "stream",
     "text": [
      "%PDF-1.3\r\n",
      "%���������\r\n",
      "4 0 obj\r\n",
      "<< /Length 5 0 R /Filter /FlateDecode >>\r\n",
      "stream\r\n",
      "x\u0001]�=\u000b",
      "�0\u0010����ǭ\u001d",
      "L�h\u00122���\u0015\u000e\u001c",
      "ĩحB��\u0007��\"�\r",
      "wܽ�so�#�syc\t��~r�E{�\f",
      "���k��5�l�QYG���N9��*�jE�l-dS\u0004�h���p�l���]��?��\u0006\u001fâ���X���\"%�\f",
      "ܩ�\r",
      "[�,��!'\b�2\u000f1o6\r",
      "\u000f���>/�1�\r\n",
      "endstream\r\n",
      "endobj\r\n",
      "5 0 obj\r\n",
      "153\r\n",
      "endobj\r\n",
      "2 0 obj\r\n",
      "<< /Type /Page /Parent 3 0 R /Resources 6 0 R /Contents 4 0 R /MediaBox [0 0 612 792]\r\n",
      ">>\r\n",
      "endobj\r\n",
      "6 0 obj\r\n",
      "<< /ProcSet [ /PDF /Text ] /ColorSpace << /Cs1 7 0 R >> /Font << /TT1 8 0 R\r\n",
      ">> >>\r\n",
      "endobj\r\n",
      "9 0 obj\r\n",
      "<< /Length 10 0 R /N 3 /Alternate /DeviceRGB /Filter /FlateDecode >>\r\n",
      "stream\r\n",
      "x\u0001��wTS�\u0016�Ͻ7��\u0012\" %�\u001az\t �;H\u0015\u0004Q�I�P\u0002��&vD\u0005F\u0014\u0011)VdT�\u0001G�\"cE\u0014\u000b",
      "��b�\t�\u0010P��QDE�݌k\t�5�ޚ��Y�����g�}׺\u0000P��\u0004�tX\u0001�4�X\u0014���\\\u0012\u0013���\u0002\u0018\u0010\u0001\u000eX\u0001��ff\u0004G�D\u0002���=���HƳ��.�d��,�P&s���\"7C$\u0006\u0000\r\n",
      "E�6<~&\u0017�\u0002�S��\u00192�\u0004���)2�12\u0016�\t��\"�įl���+�ɘ�&�\u001aY�\u0019�4���Pޚ%ᣌ\u0004�\\�%�g�|\u0007e�TI�\u0000��(����L\u00000\u0014�_��&�l�2E\u0014\u0019��\u0002\u0000\b��9�r\u000e��9h�\u0000x�g�\u0004�Ib�\u0011טi���f��S�b1+��M�xL���\f",
      "�0\u0017��o�E\u0001%Ym�h���\u001c",
      "��Y��h����\u001e",
      "~S�=�z�U�&�ϞA��Y�l�/�\u0016\u0000�$Z�\u001d",
      "���U\u0000�m\u0006@��O� \u0000�\u0005\u0000�ޜ�\u001e",
      "�l^���\f",
      "'\u000b",
      "���ls\u0001�k.+�7���oʿ�9�����V;�\u0017?�#I\u00153eE妧�KD��\f",
      "\u000e��d��\u0010���9i���,���\u0017��UQ�\t��h��<�X�.d\r\n",
      "���\u00186'\u0007\u0019~�k\u0014hu_\u0000}�9P�I\u0007�o=\u0000C#\u0003$n?z\u0002}�[\u00101\r\n",
      "Ⱦ�h���s�2z���\u001f\u000b",
      "\\�n�LA\"S��\f",
      "�dr%�,\u0019�߄l�\u0002\u0012�\u0007t�\r\n",
      "4�.0\u0002,`\r",
      "\u001c",
      "�3p\u0003� \u0000��H\u0010\u0003�\u0003.H\u0002i@\u0004�A>�\u0000\r\n",
      "A1�\u0001v�jp\u0000ԁz�\u0004N�6p\u0006\\\u0004W�\r",
      "p\u000b",
      "\f",
      "�G@\r\n",
      "��K0\u0001ށi\b��\u0010\u0015�A��\u0016�\u000f�B�\u0010\u001bZ\byCAP8\u0014\u0003�C��\u0010�@��&�\u0018*���CP=�#t\u001a�\b]���\u0007� 4\u0006�\u0001}�\u0011�\u0002�a\r",
      "�\u0000��ٰ;\u001c",
      "\bG���Dx\u0015�\u0007\u0017���J�\u0016>\u000e��\u0017�\u001b�\u0000,�_\b@�\b\u0003�FX\b\u001b�DB�X$\u0001\u0011!k�\"�\u0002�E��\u000e�\u001b��H�q�\u0003\u0006��a�\u0018\u0016�\u0019�Y��bVa�bJ0՘c�VL\u0017�6f\u00103����bձ�X'�?v\t6\u0011��-�V`�`[���\u0003�a�;\u001c",
      "\u000e��\u0019�\u001c",
      "p~�\u0018\\2n5�\u0004�\u000f׌����\r",
      "�&�x�*�\u0014�\u000f�s�b|!�\r\n",
      "\u001c",
      "\u001e",
      "ߏ\u001fƿ'�\tZ\u0004k�\u000f!� $l$T\u0010\u001a\b�\b��\u0011�4Q��Ot\"�\u0010y�\\b)���A�I\u001c",
      "&N�\u0014I�$\u0017R$)���TIj\"]&=&�!��:dGr\u0018Y@^O�$� _%\u000f�?P�(&\u0014OJ\u001c",
      "EB�N9J�@y@yC�R\r",
      "�n�X����ZO�D}J}/G�3���ɭ���k��{%O�חw�_.�'_!J����\u0002Q�@�S���V�F��=�IE���b�b�b�b��5�Q%�����\u0012O�@��%�!\u001aBӥyҸ�M�:�e�0\u001d",
      "G7��ӓ���\u001f��\te%e[�(�\u001c",
      "�\u001a��R\u0006�0`�3R\u0019��������4�����6�i^��)��*n*|�\"�f�\u0001���LUo�\u0014՝�m�O�0j&jaj�j��.��ϧ�w�ϝ_4����갺�z��j���=�\u001a�\u001a�\u001a\u0019\u001aU\u001a�4�5\u0019�n�ɚ��4ǴhZ\u000b",
      "�\u0004Z�Z�^0����Tf%��9�����-�>�ݫ=�c��Xg�N��\u0013]�.[7A�\\�SwBOK/X/_�Q�>Q�����G�[��� �`�A�������a�a��c#����*�Z�;�8c�q��>�[&���I�I��MS���T`�ϴ�\f",
      "k�h&4�5�Ǣ��YY�F֠9�<�|�y��+\u000b",
      "=�X��\u0016�\u0016_,�,S-�,\u001fY)Y\u0005Xm�����Ěk]c}ǆj�c�Φ�浭�-�v��};�]��\u0016�N���\u000e�\"�&�1\u0007=�x��\u000e��tv(��}�\u0011������\u0007'{'��I�ߝY�)�\r",
      "Σ\u000b",
      "\f",
      "\u0017�\u0017�-\u0018r�q�\u001c",
      "r�.d.�_xp��Uە�Z���M׍�v�m���=����+\u000fK\u000f�G�ǔ���\u001a�\u000b",
      "^���W�W����b�j�>:>�>�>\u0013�v��}/�a�\u0002�v���������O\u00048\u0004�\t�\r\n",
      "�\u0004F\u0004V\u0007>\u000b",
      "2\t\u0012\u0005u\u0004��\u0001���\u001f/�_$\\�\u0016\u0002B�Cv�<\t5\f",
      "]\u0015�s\u0018.,4�&�y�Ux~xw\u0004-bEDCĻH����G��\u0016K\u0016wF�G�E�GME{E�EK�X,Y��F�Z� �=\u0016\u001f\u001b\u0015{$vr����K����\r\n",
      "��.3\\����r���Ϯ�_�Yq*\u001e",
      "\u001b\u001f\u001d",
      "�\u0010��\u0013©�L��_�w�\u0004ד������+��]�e��\u0004�����D��]�cI�I\u0015I�\u0002OA��u�_�䩔���)3�ѩ�i�����B%a��+]3='�/�4�0C��i��U\u0013�@ёL(sYf����L�H�$�%�Y\u000b",
      "�j��gGe��Q�\u0011����n�\u001d",
      "����~5f5wug�v����5�k\u000e��֮\\۹Nw]������m mH���Fˍe\u001b�n���Q�Q��`h����B�BQ�-�[\u000el�l\u0015l��f��jۗ\"^��b���O%ܒ��Y}W�����������w�v\bw����X�bY^�Ю�]�����W�Va[q`\u000fi�d��2���J�jGէ��\u001a����{�����׿�m�\u0001�\u0003�\u0007>\u001e",
      "\u0014\u001c",
      "���Pk�Am�a�����꺿g_D�H��G�G��u�;��7�7�6�Ʊ�q�o���C{\u0013��P3���\u00048!9����\u001f�\f",
      "<�y�}��'�����Z�Z���։��6i{L{��ӝ\u001d",
      "�\u001d",
      "-?��|������gKϑ�\u0015��9�w~�Bƅ�\u0017�:Wt>���ҝ����ˁ��^�r�۽��U��g�9];}�}�����\u001e",
      "���_�~i��m��p���㭎�\u0005}��]�/���}���\u001b\u0003�\u0006��.�{�^�=�}���\u0007�\u000f^?�z8�h�c��'\r\n",
      "O*��?�����f�����`ϳ�g���C/����O�\u0005ϩ�+F�F�G�Gό���z����ˌ��ㅿ)����ѫ�~w��gb���k��?Jި�9���m�d���wi獵�ޫ�?�����c�Ǒ��O�O���?w|\t��x&mf������\r\n",
      "endstream\r\n",
      "endobj\r\n",
      "10 0 obj\r\n",
      "2612\r\n",
      "endobj\r\n",
      "7 0 obj\r\n",
      "[ /ICCBased 9 0 R ]\r\n",
      "endobj\r\n",
      "3 0 obj\r\n",
      "<< /Type /Pages /MediaBox [0 0 612 792] /Count 1 /Kids [ 2 0 R ] >>\r\n",
      "endobj\r\n",
      "11 0 obj\r\n",
      "<< /Type /Catalog /Pages 3 0 R >>\r\n",
      "endobj\r\n",
      "8 0 obj\r\n",
      "<< /Type /Font /Subtype /TrueType /BaseFont /CIDSZH+Helvetica /FontDescriptor\r\n",
      "12 0 R /Encoding /MacRomanEncoding /FirstChar 33 /LastChar 84 /Widths [ 278\r\n",
      "0 0 0 0 0 0 0 0 0 0 0 0 0 0 0 0 0 0 0 0 0 0 0 0 0 0 0 0 0 0 0 667 0 0 722\r\n",
      "0 0 0 0 0 0 0 0 0 0 0 0 0 0 0 611 ] >>\r\n",
      "endobj\r\n",
      "12 0 obj\r\n",
      "<< /Type /FontDescriptor /FontName /CIDSZH+Helvetica /Flags 32 /FontBBox [-951 -481 1445 1122]\r\n",
      "/ItalicAngle 0 /Ascent 770 /Descent -230 /CapHeight 717 /StemV 98 /XHeight\r\n",
      "523 /StemH 85 /AvgWidth 441 /MaxWidth 1500 /FontFile2 13 0 R >>\r\n",
      "endobj\r\n",
      "13 0 obj\r\n",
      "<< /Length 14 0 R /Length1 5904 /Filter /FlateDecode >>\r\n",
      "stream\r\n",
      "x\u0001�X\u000b",
      "p\u0014Ǚ����}I�w�@+���ްz�\u0004H<��b\r",
      "Ү�\u0010�\u0005��.F����W\r\n",
      "\r\n",
      "*,+�\t��\u0001c\u0016��!\u0010Ǥp�;;\u0006�h\u0010�o\u0004\u0005'S�0�\u0017�+���*�s�\\����\u0007.�X;�Ϭ�AT�PW����v��_��3=C[\u001e",
      "�B\u0006�\u0000\u0007�\u001b\"��`\\s^&\u0012�\u001e",
      "�\f",
      "&��׈�t\u000f\u000f�IY(\u0001�6�\u000e><��-�\u0001��\u001e",
      "޴u�}�:��h�'i�ψ.��\")�b��b\u0003C�%���D�7mg5��>\u0010ylz|x�d�k��h��\u000e��\u00067?24-\u0007��\u000fn�N�#��/\u0000I+���\r\n",
      "_\u000530�S�\u00040���\u0005<Yu;]����\u000f�]{\u001d",
      "\u001c",
      "\u0016C~��\u001f\f",
      "�Ʒ.�>�~V����O������T�(�\u0010��iϦ,F;�\t*t�Th�ZGu\tU�o�\u0013F�%x��\u000f�rЇ{`+��T�G�OqGI\u001a�=c�E>�[!\u001fW�i�{]v��iKs�RE�����<Z���7�\u0001�\u00156�\u0001�\u0000=��\u0017���C\u0013���J7��d:\r\n",
      "�TG�r�\u001d",
      "��Xa��<���GjS\u0004�<���]e���J���B��\u0013y��$�n�����\\\u000f��S=�4\u001d",
      "+%�W�G]���\u000b",
      "U|~��m�����$y�EM_q\u000f�\u001e",
      "t�T\u001a��\u0007Uv|�]M��r�{�2�{���\u0005Ū\u0005I�p�v�U��=�\u001a��H�ze�{�k�{9�\r\n",
      "]���T��1<\u0004exh̻�}�X����e\u0007U�Ʃ��J����K�J\u000e�6\u0015{KW������įͼ���y����3����\u001e",
      "s�9ےi�[[l\u0016�Ŭ⿌չMg�8�\u0011,�OYL\u0016A�\u001f��?�'\f",
      "���\u0016f\u0001K�����\u0017![���:G�+&�3�x�TRuBv�:�\u001b\u0006;�y��\u001d",
      "\u0018Z\u0018�\u0002\u0005�VM�s�p��.�^Gu���na�2s�}��D�r��#�\u001c",
      "s��*��\\�\u0019w�\f",
      "�t�Q2E�}���[O\r",
      "\u000f��\u0006�R ,\u0005�T�ʞ�S\u0019�\u0012œ���AT��pWwL���2(E�J��\u0017O\u000e\u001b�n1���a�\u0012z\u0003�'{�lX\u001e",
      "\u000eH\u0011�TW���Yc�N����/�U�w�E\u001f��hw�X���K\u001f�S\u001f�S\u001f�K�2��'\u001f��d��S\f",
      "���JI�ҼfCP\u0011#!��/���(\b\u0013`\u0017�A�0\u0002��\u0002p\u0003hoQ}[����\u000f�K`O\f",
      "h�jhQ���\u0012u�0\u0001O�!\u0018\u0005\u0013�L|\t<\b��e���F8\r",
      "ob!̧��\u0007\u0015V�OQ�^�^�g�\u001f�\u000b",
      "p\u0000NB:�\u0019�\u001c",
      "��C��8�2�]�C�G�\u0007��I8\u0007���>�Ԏj�Ⱥ\u0016�cp���\u0004%v���~��\u0016,����A�׵��(dB9�C;iw�y�rok1pB\r",
      "E�}x\u0001����\u0007|\u0002Ok1mX��]�Tu�\\蠲\r",
      "O�Un�R���{-AH�@\u0019�\u001a���O��(�\t�Z\u0003�U\u001c",
      "��x���\tv��)�&�\b�RXI�\t6�S��8\\���O�!srvn����D�_H�\u0016��>�(\f",
      "S�Ee\u001f��,�p!6`;n���\u0001|����Y�}�=�>�ڸ��V�\r",
      "�\u0011~L�+<gJK\\��j��_A.��\u0001�\u0002�iv\u0017�\r\n",
      "\\�O����\u0017k�\u001e",
      "\u001f�2���8\u001e",
      "�q֎\u0013x�\u001d",
      "�w�=�\u0010o0���\u001c",
      "�cCl?;�.��s}�\u0001�{ܻ�u�^�\tG��M^�&�\u0012�\u0013?�j���'��Z�C+S\u000fm�\u0010Dh���\u0018��fq��(��E�1\\6�{8\u0017&�\u0013B\u00010\u0013�\r\n",
      "[���}؋}x\u0018�P9o��1��`V�`�l.�`]l���_�\u0011��+�Vq\u001b�Q*�qor7�\u001b��g�9�J�\u0019��\u0003��T^�_���_\b�½B��^\u0018\u0011v\u000b",
      "{�n�u�M�v�>Ә�C��ж�ڼټ�V�2�쫔��x�G�W�נ\u001b��\u0005\u0007i5�`\u0004�]=�\u0014�5\b%Z'��[�\u0016R6��oP�>\u000f�`7�\u0011�h��\u001d",
      "�_S�l�.G��|=�����<\u0001\u000b",
      ")���\\ZVZR\\�'��G�-nA~�3wNNvV�Þ��f�Z�&��\u0018By@j\f",
      "�JQXዤ��\r\n",
      "]�\"��ܤ\b�_YT\u001ag�(��.B�Y�2y���)'=�'��Z��(\u0017\u0003����/�*nX\u0013$�i�\u0014\u0012�I�o5�g\f",
      ">�x��\u001a�\u0001g�/*\u0018\u0016\u0003J�p,\u001e",
      "\b�+�q\\&8l\u0015���!C�ޱ\u0002\r",
      "�m��B��\u0011P�%@ɓ�'\u001b�\r",
      "Dz��5�����\t��Tk�4FEy�Bq�\u001e",
      "�g�*CWX�\"\u001b�\r\n",
      "\u0017\t),����)��_�}�}��\u0019.��&�¼��h�Q��{\b\\]\f",
      "�Rd/I-\u001d",
      "\"u�v��\r\n",
      "�\u000eB���\"��M>\u0013��~Q�J�R,�\u001f&pamp,_�76_\u0005ڃcyr�!T��;��xh��\u0015+*V���ܞ���VR��\t�:�_�\r",
      "і�)\u0000PG@j�8\u0015��\u0018D�`���2�w/#��\r\n",
      "!M���iP\u0018�\f",
      "�U\u0004osD\u0019�\t#�O\u0006\u0017���Y��P}���q�rZ)�Kb�:=����\u001ffk\"�\u001a��~\u001d",
      "t��Щ\\Q02�\u000f�\u000fK/�:�b��\u000e\u001bkJ��\f",
      "ܤ Y�F�Yɦ\u0007x{У�!R��dy�\r\n",
      "���I�}!\u0015��*�]���=� ���T����$T����C��r��Fn�sE���枸�(�(�x�A�\u0010��\u0016\u0010�\u001d",
      "A�\t�шr� �FC����\u0002�\u001fjB��\u0010��?�\u0003QC�`��\u0016��Ô+j\u000f�\t*#�\u0002E��h\u0015(}'ڃ�\u0004en(D^��H)�m}�阫(��2�/J�B�.#�E(\u001e",
      "���\bJ\u001e",
      "e\"\u001e",
      "/������\"ܪ��\u0015*�.:�*��S[\"���X\u0003�䡰B:��)�g2��ٿ\u0018ᥩ���=\u0014�R\u0003�ew\b���Ax�m!\\��t\u0016µ\u0014s���W�<�p�\u0017#,�� WP���p�\u001d",
      "B��v\u0010��\u0016T��\u0010n��\u0003:�+�<��f!���\b�J�MA�P��\f",
      "�W�!�[o\u0007��B��T��\u0010n����\u0011^��!�v\u0016�\u001d",
      "_��T�\u0014��\u0014�:\u0003��w\b´\u001d",
      "����p(\u0015�,�7P�!\u001d",
      "�\u0007R\b�\u0005\r\n",
      "ܼ\u000f�ܲ��\u001d",
      "ߘ7�\u00049�)\t�PϪaRX\u000f�t�z��޵��4\u001d",
      "��J�S�\u0016�\u001e",
      "z�Nj\f",
      "���ƌV�_iK'{�����#\\�O�Kz=\u0000�΋\u001c",
      "}wjH~\u000b",
      "�,P��j��\u0000W��2��;�\u00135\u0013�Z߁3�\r\n",
      "`��\f",
      "�$\u0010]X���q\u0014S�������p��\u0006�o�A�\u0016�c����X\u0002=�\u0017�\u00054�}�2�--77��s�5A�-����7���v���Tu�Ŷ@��\u0001��M}PW�0k���8Ǣ\u001c",
      "i�'���/]\u0012�%\\S;�7?��\r\n",
      "͠�\u0010�\r\n",
      "���F'����&\f",
      "b\f",
      "������َ�T�j3��\u0010�&\u00132��J7\u001b�\u0005܋\u001c",
      "/f�l�L�e\u000b",
      "�7�\u001c",
      "��\u0004�j�M\u0002�1�\u0015�-*�d+�Λ�6N �e93#��\u0017\u000e�a[^z�\u0011��\u0007)���k�֩�<#�F�\u0013�rk�j[�j�j\u001d",
      "�u�Ȭ����z����m�\u0016z��'\r\n",
      "\u0014�bh�|紂#\u0005w1���e��5S�\\���Љi��\b%��I��{wr�U������/��=�6��S_�?m@5�d��\"��M\\\u0006��\u001f�ݻ\u001c",
      "\u00073Y�%��n\u0006��\u0016KeV~~������7=û��O��?n������ʅ\r",
      "[�\"����\u0014�̂�7sff\u0016L6��\r\n",
      "q\u000eݬ�iUhΦӖχ>_�����ު{��e��I\u001e",
      "\u0007�\u0011s�8�ͬ\u0014ٕ芡U5�w����\u000b",
      "��\u000e\\��\u0003�C�'�F��\u0014o\u000e��X�\u000e��9!��\u0017\u0012���\\b�r\u0007��\r",
      "��`���GS!�\u0019o�\u0012�p�q^��aʳ��ٯ�^#��%\u0013����`��8$�g\t9����C87��G�]��5e�qiQ:���K %O�0��\u001e",
      "␾H$��&�F\u000b",
      "\r",
      "���\r",
      "M�����P_w���e.1����~\u0000}G\u0000\bj�\u0017�⍹͒W�b��\"����\u0003��&\r\n",
      "\r\n",
      "endstream\r\n",
      "endobj\r\n",
      "14 0 obj\r\n",
      "3345\r\n",
      "endobj\r\n",
      "15 0 obj\r\n",
      "(dat)\r\n",
      "endobj\r\n",
      "16 0 obj\r\n",
      "(Mac OS X 10.12.4 Quartz PDFContext)\r\n",
      "endobj\r\n",
      "17 0 obj\r\n",
      "(Pages)\r\n",
      "endobj\r\n",
      "18 0 obj\r\n",
      "(D:20170414071811Z00'00')\r\n",
      "endobj\r\n",
      "1 0 obj\r\n",
      "<< /Title 15 0 R /Producer 16 0 R /Creator 17 0 R /CreationDate 18 0 R /ModDate\r\n",
      "18 0 R >>\r\n",
      "endobj\r\n",
      "xref\r\n",
      "0 19\r\n",
      "0000000000 65535 f \r\n",
      "0000007501 00000 n \r\n",
      "0000000268 00000 n \r\n",
      "0000003239 00000 n \r\n",
      "0000000022 00000 n \r\n",
      "0000000249 00000 n \r\n",
      "0000000372 00000 n \r\n",
      "0000003204 00000 n \r\n",
      "0000003372 00000 n \r\n",
      "0000000469 00000 n \r\n",
      "0000003183 00000 n \r\n",
      "0000003322 00000 n \r\n",
      "0000003654 00000 n \r\n",
      "0000003904 00000 n \r\n",
      "0000007339 00000 n \r\n",
      "0000007360 00000 n \r\n",
      "0000007382 00000 n \r\n",
      "0000007435 00000 n \r\n",
      "0000007459 00000 n \r\n",
      "trailer\r\n",
      "<< /Size 19 /Root 11 0 R /Info 1 0 R /ID [ <e4c4892da9e4210e1337861985e5f085>\r\n",
      "<e4c4892da9e4210e1337861985e5f085> ] >>\r\n",
      "startxref\r\n",
      "7606\r\n",
      "%%EOF\r\n"
     ]
    }
   ],
   "source": [
    "!cat files/dat.pdf"
   ]
  },
  {
   "cell_type": "code",
   "execution_count": 110,
   "metadata": {
    "collapsed": false
   },
   "outputs": [
    {
     "data": {
      "text/html": [
       "\n",
       "        <iframe\n",
       "            width=\"750\"\n",
       "            height=\"300\"\n",
       "            src=\"./files/dat.pdf\"\n",
       "            frameborder=\"0\"\n",
       "            allowfullscreen\n",
       "        ></iframe>\n",
       "        "
      ],
      "text/plain": [
       "<IPython.lib.display.IFrame at 0x1048bc860>"
      ]
     },
     "execution_count": 110,
     "metadata": {},
     "output_type": "execute_result"
    }
   ],
   "source": [
    "from IPython.display import IFrame\n",
    "IFrame(\"./files/dat.pdf\", width=750, height=300)"
   ]
  },
  {
   "cell_type": "code",
   "execution_count": 99,
   "metadata": {
    "collapsed": false
   },
   "outputs": [
    {
     "name": "stdout",
     "output_type": "stream",
     "text": [
      "This is an unstructured text file.\r\n",
      "    It can have all sort\r\n",
      "        of\r\n",
      "            stuff in it.\r\n",
      "\r\n",
      "\r\n",
      "Super duper."
     ]
    }
   ],
   "source": [
    "!cat files/dat.txt"
   ]
  },
  {
   "cell_type": "code",
   "execution_count": 97,
   "metadata": {
    "collapsed": false,
    "nbpresent": {
     "id": "b4ca6892-4f74-4adf-805c-c8b3ebf7f9c4"
    }
   },
   "outputs": [
    {
     "name": "stdout",
     "output_type": "stream",
     "text": [
      "1, 2, 3, 4,\r\n",
      "2, 6, 7, 8,\r\n",
      "9, 10, 11, 12,"
     ]
    }
   ],
   "source": [
    "!cat files/dat.csv"
   ]
  },
  {
   "cell_type": "code",
   "execution_count": 98,
   "metadata": {
    "collapsed": false,
    "nbpresent": {
     "id": "24f6268e-84e4-457f-962e-fa100419b853"
    }
   },
   "outputs": [
    {
     "name": "stdout",
     "output_type": "stream",
     "text": [
      "{\r\n",
      "  \"firstName\": \"John\",\r\n",
      "  \"age\": 53\r\n",
      "}\r\n"
     ]
    }
   ],
   "source": [
    "!cat files/dat.json"
   ]
  },
  {
   "cell_type": "markdown",
   "metadata": {
    "nbpresent": {
     "id": "994a5bf7-95d0-484d-bd00-4368c70ce9ec"
    }
   },
   "source": [
    "# APIs\n",
    "\n",
    "Notes on APIs:\n",
    "- Follow API guidelines! You are using their servers \n",
    "    - These guidelines typically specify the number / rate / size of requests"
   ]
  },
  {
   "cell_type": "code",
   "execution_count": 17,
   "metadata": {
    "collapsed": false
   },
   "outputs": [],
   "source": [
    "# Twitter API\n",
    "\n",
    "# Import tweepy to access API\n",
    "import tweepy\n",
    "from tweepy import OAuthHandler\n",
    "\n",
    "# Import my API credentials\n",
    "from stw import *\n",
    "\n",
    "#\n",
    "auth = OAuthHandler(CONSUMER_KEY, CONSUMER_SECRET)\n",
    "auth.set_access_token(ACCESS_TOKEN, ACCESS_SECRET)\n",
    "\n",
    "#\n",
    "api = tweepy.API(auth)\n",
    "\n",
    "for status in tweepy.Cursor(api.home_timeline).items(5):\n",
    "    # Process a single status\n",
    "    print(status.user.name)\n",
    "    print(status.text, '\\n') "
   ]
  },
  {
   "cell_type": "code",
   "execution_count": 121,
   "metadata": {
    "collapsed": true
   },
   "outputs": [],
   "source": [
    "# Authorized Access - OAuth"
   ]
  },
  {
   "cell_type": "code",
   "execution_count": null,
   "metadata": {
    "collapsed": true
   },
   "outputs": [],
   "source": [
    "# Twitter"
   ]
  },
  {
   "cell_type": "code",
   "execution_count": null,
   "metadata": {
    "collapsed": true
   },
   "outputs": [],
   "source": [
    "# Pubmed"
   ]
  },
  {
   "cell_type": "code",
   "execution_count": 19,
   "metadata": {
    "collapsed": false
   },
   "outputs": [
    {
     "ename": "SyntaxError",
     "evalue": "invalid syntax (<ipython-input-19-811718d31541>, line 2)",
     "output_type": "error",
     "traceback": [
      "\u001b[0;36m  File \u001b[0;32m\"<ipython-input-19-811718d31541>\"\u001b[0;36m, line \u001b[0;32m2\u001b[0m\n\u001b[0;31m    https://api.github.com/users/tomdonoghue\u001b[0m\n\u001b[0m         ^\u001b[0m\n\u001b[0;31mSyntaxError\u001b[0m\u001b[0;31m:\u001b[0m invalid syntax\n"
     ]
    }
   ],
   "source": [
    "# Github\n",
    "https://api.github.com/users/tomdonoghue"
   ]
  },
  {
   "cell_type": "code",
   "execution_count": 120,
   "metadata": {
    "collapsed": false
   },
   "outputs": [],
   "source": [
    "import requests\n",
    "from bs4 import BeautifulSoup"
   ]
  },
  {
   "cell_type": "code",
   "execution_count": 118,
   "metadata": {
    "collapsed": true
   },
   "outputs": [],
   "source": [
    "page = requests.get('https://api.github.com/users/tomdonoghue')"
   ]
  },
  {
   "cell_type": "code",
   "execution_count": 119,
   "metadata": {
    "collapsed": false
   },
   "outputs": [
    {
     "data": {
      "text/plain": [
       "b'{\"login\":\"TomDonoghue\",\"id\":7727566,\"avatar_url\":\"https://avatars3.githubusercontent.com/u/7727566?v=3\",\"gravatar_id\":\"\",\"url\":\"https://api.github.com/users/TomDonoghue\",\"html_url\":\"https://github.com/TomDonoghue\",\"followers_url\":\"https://api.github.com/users/TomDonoghue/followers\",\"following_url\":\"https://api.github.com/users/TomDonoghue/following{/other_user}\",\"gists_url\":\"https://api.github.com/users/TomDonoghue/gists{/gist_id}\",\"starred_url\":\"https://api.github.com/users/TomDonoghue/starred{/owner}{/repo}\",\"subscriptions_url\":\"https://api.github.com/users/TomDonoghue/subscriptions\",\"organizations_url\":\"https://api.github.com/users/TomDonoghue/orgs\",\"repos_url\":\"https://api.github.com/users/TomDonoghue/repos\",\"events_url\":\"https://api.github.com/users/TomDonoghue/events{/privacy}\",\"received_events_url\":\"https://api.github.com/users/TomDonoghue/received_events\",\"type\":\"User\",\"site_admin\":false,\"name\":\"Tom\",\"company\":\"UC San Diego\",\"blog\":\"tomdonoghue.github.io\",\"location\":\"San Diego\",\"email\":\"thomasdonoghue@hotmail.ca\",\"hireable\":null,\"bio\":\"Cognitive Science Grad Student @ UCSD. \\\\r\\\\nOn Twitter @TomDonoghue\",\"public_repos\":6,\"public_gists\":0,\"followers\":1,\"following\":8,\"created_at\":\"2014-05-28T20:20:48Z\",\"updated_at\":\"2017-04-13T21:55:58Z\"}'"
      ]
     },
     "execution_count": 119,
     "metadata": {},
     "output_type": "execute_result"
    }
   ],
   "source": [
    "BeautifulSoup.\n",
    "#page.content"
   ]
  },
  {
   "cell_type": "code",
   "execution_count": null,
   "metadata": {
    "collapsed": true
   },
   "outputs": [],
   "source": []
  },
  {
   "cell_type": "markdown",
   "metadata": {
    "nbpresent": {
     "id": "b9f96d69-8826-4383-927f-10dcf4a32cd7"
    },
    "slideshow": {
     "slide_type": "slide"
    }
   },
   "source": [
    "<img src=\"img/sql.png\" alt=\"sql\" height=\"500\" width=\"500\">"
   ]
  },
  {
   "cell_type": "code",
   "execution_count": 2,
   "metadata": {
    "collapsed": true,
    "nbpresent": {
     "id": "5295c877-9273-4809-b563-324059eb936c"
    }
   },
   "outputs": [],
   "source": [
    "# Web Scraping vs. APIs"
   ]
  },
  {
   "cell_type": "markdown",
   "metadata": {
    "nbpresent": {
     "id": "38332a13-9144-4702-9eb8-b18793ffdbeb"
    }
   },
   "source": []
  },
  {
   "cell_type": "code",
   "execution_count": 1,
   "metadata": {
    "collapsed": true,
    "nbpresent": {
     "id": "fdfece81-86d9-4b9c-bdbd-0073ed444762"
    }
   },
   "outputs": [],
   "source": [
    "# Unstructured Text / Data"
   ]
  },
  {
   "cell_type": "code",
   "execution_count": null,
   "metadata": {
    "collapsed": true,
    "nbpresent": {
     "id": "14dd3b72-4472-4d2b-85c2-2bcc572000a7"
    }
   },
   "outputs": [],
   "source": []
  },
  {
   "cell_type": "markdown",
   "metadata": {
    "nbpresent": {
     "id": "8b298414-9b76-4544-99e6-2c6aa8c1567d"
    }
   },
   "source": []
  },
  {
   "cell_type": "code",
   "execution_count": 11,
   "metadata": {
    "collapsed": false,
    "nbpresent": {
     "id": "9992b84f-cef6-4e92-a861-77e0e3435f75"
    }
   },
   "outputs": [
    {
     "data": {
      "text/plain": [
       "array([1, 2, 3, 4, 5, 6, 7, 8, 9])"
      ]
     },
     "execution_count": 11,
     "metadata": {},
     "output_type": "execute_result"
    }
   ],
   "source": [
    "import numpy as np\n",
    "np.arange(1,10)"
   ]
  },
  {
   "cell_type": "code",
   "execution_count": null,
   "metadata": {
    "collapsed": true,
    "nbpresent": {
     "id": "4fff2773-0cfb-4ab1-a293-6e0982c5282f"
    }
   },
   "outputs": [],
   "source": []
  },
  {
   "cell_type": "code",
   "execution_count": 7,
   "metadata": {
    "collapsed": true,
    "nbpresent": {
     "id": "2e0e8ea2-844e-459f-adb0-0f2992336ed2"
    }
   },
   "outputs": [],
   "source": [
    "# ETL - Extract, Transform, Load"
   ]
  },
  {
   "cell_type": "markdown",
   "metadata": {
    "nbpresent": {
     "id": "a142fb29-0619-4dbd-a278-d172057e4c64"
    }
   },
   "source": [
    "<img src=\"img/data_gov.png\" alt=\"gov_dat\" height=\"500\" width=\"750\">"
   ]
  },
  {
   "cell_type": "markdown",
   "metadata": {
    "nbpresent": {
     "id": "5b97001a-8d5e-41c7-bffc-f1902a377eef"
    }
   },
   "source": [
    "![]()\n",
    "\n",
    "<img src=\"img/sd_data.png\" alt=\"sd_dat\" height=\"500\" width=\"750\">"
   ]
  },
  {
   "cell_type": "code",
   "execution_count": null,
   "metadata": {
    "collapsed": true,
    "nbpresent": {
     "id": "47823ff8-f8bf-461d-a994-2b3f02a9513b"
    }
   },
   "outputs": [],
   "source": []
  },
  {
   "cell_type": "code",
   "execution_count": null,
   "metadata": {
    "collapsed": true,
    "nbpresent": {
     "id": "bef47d16-aa45-4f48-8e82-90d62def3d52"
    }
   },
   "outputs": [],
   "source": []
  },
  {
   "cell_type": "code",
   "execution_count": null,
   "metadata": {
    "collapsed": true,
    "nbpresent": {
     "id": "745111a3-e841-4a18-875e-2ea5ab72a42b"
    }
   },
   "outputs": [],
   "source": [
    "# Scraping & Parsing "
   ]
  },
  {
   "cell_type": "code",
   "execution_count": null,
   "metadata": {
    "collapsed": true,
    "nbpresent": {
     "id": "d88ed566-4a19-4c7d-a1f3-df2291e5eb33"
    }
   },
   "outputs": [],
   "source": []
  },
  {
   "cell_type": "code",
   "execution_count": null,
   "metadata": {
    "collapsed": true,
    "nbpresent": {
     "id": "8a2eb9fe-f134-400b-a16d-7d1354c1b9fb"
    }
   },
   "outputs": [],
   "source": []
  },
  {
   "cell_type": "markdown",
   "metadata": {
    "nbpresent": {
     "id": "cae6f634-8ba2-49fb-91ca-0ff3512b3a97"
    }
   },
   "source": [
    "Extracting data from pdf's: tabula\n",
    "- https://github.com/tabulapdf/tabula"
   ]
  },
  {
   "cell_type": "code",
   "execution_count": null,
   "metadata": {
    "collapsed": true,
    "nbpresent": {
     "id": "33aedaf1-6730-4c8f-9adb-3299ce4b9abe"
    }
   },
   "outputs": [],
   "source": []
  }
 ],
 "metadata": {
  "anaconda-cloud": {},
  "kernelspec": {
   "display_name": "Python [default]",
   "language": "python",
   "name": "python3"
  },
  "language_info": {
   "codemirror_mode": {
    "name": "ipython",
    "version": 3
   },
   "file_extension": ".py",
   "mimetype": "text/x-python",
   "name": "python",
   "nbconvert_exporter": "python",
   "pygments_lexer": "ipython3",
   "version": "3.5.2"
  },
  "nbpresent": {
   "slides": {
    "3b17aa6c-e223-48ab-9391-ba82ed2f4f9b": {
     "id": "3b17aa6c-e223-48ab-9391-ba82ed2f4f9b",
     "prev": "c48d2bdc-e44c-4974-a8bb-76598c128e39",
     "regions": {}
    },
    "53872fe4-4bb7-4c07-8846-13adf2d360fc": {
     "id": "53872fe4-4bb7-4c07-8846-13adf2d360fc",
     "prev": "3b17aa6c-e223-48ab-9391-ba82ed2f4f9b",
     "regions": {
      "be8841e3-8ea6-4c46-a665-8b10c47d53d6": {
       "attrs": {
        "height": 0.8,
        "width": 0.45,
        "x": 0.05,
        "y": 0.1
       },
       "content": {
        "cell": "24f6268e-84e4-457f-962e-fa100419b853",
        "part": "source"
       },
       "id": "be8841e3-8ea6-4c46-a665-8b10c47d53d6"
      },
      "de00509c-cb47-4c78-820a-4437e6df20dd": {
       "attrs": {
        "height": 0.8,
        "width": 0.45,
        "x": 0.5,
        "y": 0.1
       },
       "content": {
        "cell": "24f6268e-84e4-457f-962e-fa100419b853",
        "part": "outputs"
       },
       "id": "de00509c-cb47-4c78-820a-4437e6df20dd"
      }
     }
    },
    "9d1122bc-3454-409b-a8ba-da5a1a379855": {
     "id": "9d1122bc-3454-409b-a8ba-da5a1a379855",
     "prev": null,
     "regions": {
      "dd604191-00e4-4aa2-b4c3-6cb03dcefadf": {
       "attrs": {
        "height": 1,
        "width": 1,
        "x": 0,
        "y": 0
       },
       "content": {
        "cell": "5522f6c9-cef7-4813-a205-07e28ed8c85b",
        "part": "source"
       },
       "id": "dd604191-00e4-4aa2-b4c3-6cb03dcefadf"
      }
     }
    },
    "c48d2bdc-e44c-4974-a8bb-76598c128e39": {
     "id": "c48d2bdc-e44c-4974-a8bb-76598c128e39",
     "prev": "cd38d8d9-cda8-481b-b4b4-9df7919db5db",
     "regions": {
      "d5082ba0-b7b1-4a4c-9f64-c03bde6983e7": {
       "attrs": {
        "height": 1,
        "width": 1,
        "x": 0,
        "y": 0
       },
       "content": {
        "cell": "b9f96d69-8826-4383-927f-10dcf4a32cd7",
        "part": "source"
       },
       "id": "d5082ba0-b7b1-4a4c-9f64-c03bde6983e7"
      }
     }
    },
    "cd38d8d9-cda8-481b-b4b4-9df7919db5db": {
     "id": "cd38d8d9-cda8-481b-b4b4-9df7919db5db",
     "prev": "9d1122bc-3454-409b-a8ba-da5a1a379855",
     "regions": {
      "7996a25a-485f-4955-94af-f4433af55478": {
       "attrs": {
        "height": 1,
        "width": 1,
        "x": 0,
        "y": 0
       },
       "content": {
        "cell": "32b1cdee-547c-4161-bfdc-a4c3e7bae228",
        "part": "source"
       },
       "id": "7996a25a-485f-4955-94af-f4433af55478"
      }
     }
    }
   },
   "themes": {}
  }
 },
 "nbformat": 4,
 "nbformat_minor": 2
}
